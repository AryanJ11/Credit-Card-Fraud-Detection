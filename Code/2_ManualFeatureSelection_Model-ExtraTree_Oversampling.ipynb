{
 "cells": [
  {
   "cell_type": "code",
   "execution_count": 1,
   "metadata": {},
   "outputs": [
    {
     "name": "stderr",
     "output_type": "stream",
     "text": [
      "C:\\Users\\shivam.yadav\\AppData\\Local\\Continuum\\anaconda3\\lib\\site-packages\\statsmodels\\tools\\_testing.py:19: FutureWarning: pandas.util.testing is deprecated. Use the functions in the public API at pandas.testing instead.\n",
      "  import pandas.util.testing as tm\n"
     ]
    },
    {
     "data": {
      "text/html": [
       "<style>.container { width:100% !important; }</style>"
      ],
      "text/plain": [
       "<IPython.core.display.HTML object>"
      ]
     },
     "metadata": {},
     "output_type": "display_data"
    }
   ],
   "source": [
    "## Import Essential Data handling libraries\n",
    "import pandas as pd\n",
    "import numpy as np\n",
    "\n",
    "from math import floor\n",
    "from time import perf_counter\n",
    "\n",
    "import matplotlib.pyplot as plt,seaborn as sns\n",
    "import matplotlib as mpl\n",
    "%matplotlib inline\n",
    "\n",
    "\n",
    "from sklearn.preprocessing import QuantileTransformer\n",
    "from sklearn.preprocessing import StandardScaler\n",
    "\n",
    "pd.set_option('display.max_rows', 500)\n",
    "pd.set_option('display.max_columns', 500)\n",
    "pd.set_option('display.float_format', lambda x: '%.3f' % x)\n",
    "\n",
    "from IPython.core.display import display, HTML\n",
    "display(HTML(\"<style>.container { width:100% !important; }</style>\"))\n",
    "\n",
    "import warnings\n",
    "warnings.filterwarnings(\"ignore\")"
   ]
  },
  {
   "cell_type": "code",
   "execution_count": 2,
   "metadata": {},
   "outputs": [],
   "source": [
    "### Importing Machine Learning Libraries and functions\n",
    "from sklearn.model_selection import train_test_split\n",
    "from sklearn.model_selection import KFold\n",
    "from sklearn.model_selection import cross_val_score\n",
    "from sklearn import model_selection\n",
    "\n",
    "from sklearn.metrics import precision_recall_curve, auc, f1_score\n",
    "from sklearn.metrics import make_scorer\n",
    "\n",
    "\n",
    "from sklearn.linear_model import LogisticRegression\n",
    "from sklearn.tree import DecisionTreeClassifier\n",
    "from sklearn.neighbors import KNeighborsClassifier\n",
    "from sklearn.discriminant_analysis import LinearDiscriminantAnalysis\n",
    "from sklearn.naive_bayes import GaussianNB\n",
    "from sklearn.svm import SVC\n",
    "\n",
    "from sklearn.ensemble import AdaBoostClassifier\n",
    "from sklearn.ensemble import GradientBoostingClassifier\n",
    "from sklearn.ensemble import RandomForestClassifier\n",
    "from sklearn.ensemble import ExtraTreesClassifier\n",
    "\n",
    "from xgboost import XGBClassifier\n",
    "\n",
    "import lightgbm as lgb\n",
    "\n",
    "from imblearn.over_sampling import SMOTE\n",
    "\n",
    "from sklearn.feature_selection import RFECV"
   ]
  },
  {
   "cell_type": "markdown",
   "metadata": {},
   "source": [
    "#### Loading Data"
   ]
  },
  {
   "cell_type": "code",
   "execution_count": 3,
   "metadata": {},
   "outputs": [],
   "source": [
    "df_raw = pd.read_csv(\"..\\data\\creditcard.csv\")"
   ]
  },
  {
   "cell_type": "code",
   "execution_count": 4,
   "metadata": {},
   "outputs": [
    {
     "data": {
      "text/html": [
       "<div>\n",
       "<style scoped>\n",
       "    .dataframe tbody tr th:only-of-type {\n",
       "        vertical-align: middle;\n",
       "    }\n",
       "\n",
       "    .dataframe tbody tr th {\n",
       "        vertical-align: top;\n",
       "    }\n",
       "\n",
       "    .dataframe thead th {\n",
       "        text-align: right;\n",
       "    }\n",
       "</style>\n",
       "<table border=\"1\" class=\"dataframe\">\n",
       "  <thead>\n",
       "    <tr style=\"text-align: right;\">\n",
       "      <th></th>\n",
       "      <th>Time</th>\n",
       "      <th>V1</th>\n",
       "      <th>V2</th>\n",
       "      <th>V3</th>\n",
       "      <th>V4</th>\n",
       "      <th>V5</th>\n",
       "      <th>V6</th>\n",
       "      <th>V7</th>\n",
       "      <th>V8</th>\n",
       "      <th>V9</th>\n",
       "      <th>V10</th>\n",
       "      <th>V11</th>\n",
       "      <th>V12</th>\n",
       "      <th>V13</th>\n",
       "      <th>V14</th>\n",
       "      <th>V15</th>\n",
       "      <th>V16</th>\n",
       "      <th>V17</th>\n",
       "      <th>V18</th>\n",
       "      <th>V19</th>\n",
       "      <th>V20</th>\n",
       "      <th>V21</th>\n",
       "      <th>V22</th>\n",
       "      <th>V23</th>\n",
       "      <th>V24</th>\n",
       "      <th>V25</th>\n",
       "      <th>V26</th>\n",
       "      <th>V27</th>\n",
       "      <th>V28</th>\n",
       "      <th>Amount</th>\n",
       "      <th>Class</th>\n",
       "    </tr>\n",
       "  </thead>\n",
       "  <tbody>\n",
       "    <tr>\n",
       "      <th>0</th>\n",
       "      <td>0.000</td>\n",
       "      <td>-1.360</td>\n",
       "      <td>-0.073</td>\n",
       "      <td>2.536</td>\n",
       "      <td>1.378</td>\n",
       "      <td>-0.338</td>\n",
       "      <td>0.462</td>\n",
       "      <td>0.240</td>\n",
       "      <td>0.099</td>\n",
       "      <td>0.364</td>\n",
       "      <td>0.091</td>\n",
       "      <td>-0.552</td>\n",
       "      <td>-0.618</td>\n",
       "      <td>-0.991</td>\n",
       "      <td>-0.311</td>\n",
       "      <td>1.468</td>\n",
       "      <td>-0.470</td>\n",
       "      <td>0.208</td>\n",
       "      <td>0.026</td>\n",
       "      <td>0.404</td>\n",
       "      <td>0.251</td>\n",
       "      <td>-0.018</td>\n",
       "      <td>0.278</td>\n",
       "      <td>-0.110</td>\n",
       "      <td>0.067</td>\n",
       "      <td>0.129</td>\n",
       "      <td>-0.189</td>\n",
       "      <td>0.134</td>\n",
       "      <td>-0.021</td>\n",
       "      <td>149.620</td>\n",
       "      <td>0</td>\n",
       "    </tr>\n",
       "    <tr>\n",
       "      <th>1</th>\n",
       "      <td>0.000</td>\n",
       "      <td>1.192</td>\n",
       "      <td>0.266</td>\n",
       "      <td>0.166</td>\n",
       "      <td>0.448</td>\n",
       "      <td>0.060</td>\n",
       "      <td>-0.082</td>\n",
       "      <td>-0.079</td>\n",
       "      <td>0.085</td>\n",
       "      <td>-0.255</td>\n",
       "      <td>-0.167</td>\n",
       "      <td>1.613</td>\n",
       "      <td>1.065</td>\n",
       "      <td>0.489</td>\n",
       "      <td>-0.144</td>\n",
       "      <td>0.636</td>\n",
       "      <td>0.464</td>\n",
       "      <td>-0.115</td>\n",
       "      <td>-0.183</td>\n",
       "      <td>-0.146</td>\n",
       "      <td>-0.069</td>\n",
       "      <td>-0.226</td>\n",
       "      <td>-0.639</td>\n",
       "      <td>0.101</td>\n",
       "      <td>-0.340</td>\n",
       "      <td>0.167</td>\n",
       "      <td>0.126</td>\n",
       "      <td>-0.009</td>\n",
       "      <td>0.015</td>\n",
       "      <td>2.690</td>\n",
       "      <td>0</td>\n",
       "    </tr>\n",
       "    <tr>\n",
       "      <th>2</th>\n",
       "      <td>1.000</td>\n",
       "      <td>-1.358</td>\n",
       "      <td>-1.340</td>\n",
       "      <td>1.773</td>\n",
       "      <td>0.380</td>\n",
       "      <td>-0.503</td>\n",
       "      <td>1.800</td>\n",
       "      <td>0.791</td>\n",
       "      <td>0.248</td>\n",
       "      <td>-1.515</td>\n",
       "      <td>0.208</td>\n",
       "      <td>0.625</td>\n",
       "      <td>0.066</td>\n",
       "      <td>0.717</td>\n",
       "      <td>-0.166</td>\n",
       "      <td>2.346</td>\n",
       "      <td>-2.890</td>\n",
       "      <td>1.110</td>\n",
       "      <td>-0.121</td>\n",
       "      <td>-2.262</td>\n",
       "      <td>0.525</td>\n",
       "      <td>0.248</td>\n",
       "      <td>0.772</td>\n",
       "      <td>0.909</td>\n",
       "      <td>-0.689</td>\n",
       "      <td>-0.328</td>\n",
       "      <td>-0.139</td>\n",
       "      <td>-0.055</td>\n",
       "      <td>-0.060</td>\n",
       "      <td>378.660</td>\n",
       "      <td>0</td>\n",
       "    </tr>\n",
       "    <tr>\n",
       "      <th>3</th>\n",
       "      <td>1.000</td>\n",
       "      <td>-0.966</td>\n",
       "      <td>-0.185</td>\n",
       "      <td>1.793</td>\n",
       "      <td>-0.863</td>\n",
       "      <td>-0.010</td>\n",
       "      <td>1.247</td>\n",
       "      <td>0.238</td>\n",
       "      <td>0.377</td>\n",
       "      <td>-1.387</td>\n",
       "      <td>-0.055</td>\n",
       "      <td>-0.226</td>\n",
       "      <td>0.178</td>\n",
       "      <td>0.508</td>\n",
       "      <td>-0.288</td>\n",
       "      <td>-0.631</td>\n",
       "      <td>-1.060</td>\n",
       "      <td>-0.684</td>\n",
       "      <td>1.966</td>\n",
       "      <td>-1.233</td>\n",
       "      <td>-0.208</td>\n",
       "      <td>-0.108</td>\n",
       "      <td>0.005</td>\n",
       "      <td>-0.190</td>\n",
       "      <td>-1.176</td>\n",
       "      <td>0.647</td>\n",
       "      <td>-0.222</td>\n",
       "      <td>0.063</td>\n",
       "      <td>0.061</td>\n",
       "      <td>123.500</td>\n",
       "      <td>0</td>\n",
       "    </tr>\n",
       "    <tr>\n",
       "      <th>4</th>\n",
       "      <td>2.000</td>\n",
       "      <td>-1.158</td>\n",
       "      <td>0.878</td>\n",
       "      <td>1.549</td>\n",
       "      <td>0.403</td>\n",
       "      <td>-0.407</td>\n",
       "      <td>0.096</td>\n",
       "      <td>0.593</td>\n",
       "      <td>-0.271</td>\n",
       "      <td>0.818</td>\n",
       "      <td>0.753</td>\n",
       "      <td>-0.823</td>\n",
       "      <td>0.538</td>\n",
       "      <td>1.346</td>\n",
       "      <td>-1.120</td>\n",
       "      <td>0.175</td>\n",
       "      <td>-0.451</td>\n",
       "      <td>-0.237</td>\n",
       "      <td>-0.038</td>\n",
       "      <td>0.803</td>\n",
       "      <td>0.409</td>\n",
       "      <td>-0.009</td>\n",
       "      <td>0.798</td>\n",
       "      <td>-0.137</td>\n",
       "      <td>0.141</td>\n",
       "      <td>-0.206</td>\n",
       "      <td>0.502</td>\n",
       "      <td>0.219</td>\n",
       "      <td>0.215</td>\n",
       "      <td>69.990</td>\n",
       "      <td>0</td>\n",
       "    </tr>\n",
       "  </tbody>\n",
       "</table>\n",
       "</div>"
      ],
      "text/plain": [
       "   Time     V1     V2    V3     V4     V5     V6     V7     V8     V9    V10  \\\n",
       "0 0.000 -1.360 -0.073 2.536  1.378 -0.338  0.462  0.240  0.099  0.364  0.091   \n",
       "1 0.000  1.192  0.266 0.166  0.448  0.060 -0.082 -0.079  0.085 -0.255 -0.167   \n",
       "2 1.000 -1.358 -1.340 1.773  0.380 -0.503  1.800  0.791  0.248 -1.515  0.208   \n",
       "3 1.000 -0.966 -0.185 1.793 -0.863 -0.010  1.247  0.238  0.377 -1.387 -0.055   \n",
       "4 2.000 -1.158  0.878 1.549  0.403 -0.407  0.096  0.593 -0.271  0.818  0.753   \n",
       "\n",
       "     V11    V12    V13    V14    V15    V16    V17    V18    V19    V20  \\\n",
       "0 -0.552 -0.618 -0.991 -0.311  1.468 -0.470  0.208  0.026  0.404  0.251   \n",
       "1  1.613  1.065  0.489 -0.144  0.636  0.464 -0.115 -0.183 -0.146 -0.069   \n",
       "2  0.625  0.066  0.717 -0.166  2.346 -2.890  1.110 -0.121 -2.262  0.525   \n",
       "3 -0.226  0.178  0.508 -0.288 -0.631 -1.060 -0.684  1.966 -1.233 -0.208   \n",
       "4 -0.823  0.538  1.346 -1.120  0.175 -0.451 -0.237 -0.038  0.803  0.409   \n",
       "\n",
       "     V21    V22    V23    V24    V25    V26    V27    V28  Amount  Class  \n",
       "0 -0.018  0.278 -0.110  0.067  0.129 -0.189  0.134 -0.021 149.620      0  \n",
       "1 -0.226 -0.639  0.101 -0.340  0.167  0.126 -0.009  0.015   2.690      0  \n",
       "2  0.248  0.772  0.909 -0.689 -0.328 -0.139 -0.055 -0.060 378.660      0  \n",
       "3 -0.108  0.005 -0.190 -1.176  0.647 -0.222  0.063  0.061 123.500      0  \n",
       "4 -0.009  0.798 -0.137  0.141 -0.206  0.502  0.219  0.215  69.990      0  "
      ]
     },
     "execution_count": 4,
     "metadata": {},
     "output_type": "execute_result"
    }
   ],
   "source": [
    "df_raw.head()"
   ]
  },
  {
   "cell_type": "code",
   "execution_count": 5,
   "metadata": {},
   "outputs": [],
   "source": [
    "df_raw.drop([\"Time\"], axis = 1, inplace  = True)"
   ]
  },
  {
   "cell_type": "code",
   "execution_count": 6,
   "metadata": {},
   "outputs": [],
   "source": [
    "# df = df_raw.copy()"
   ]
  },
  {
   "cell_type": "markdown",
   "metadata": {},
   "source": [
    "##### Checking Class Distribution"
   ]
  },
  {
   "cell_type": "code",
   "execution_count": 7,
   "metadata": {},
   "outputs": [
    {
     "name": "stdout",
     "output_type": "stream",
     "text": [
      "0    284315\n",
      "1       492\n",
      "Name: Class, dtype: int64\n",
      "\n",
      " % distribution\n",
      " 0   99.827\n",
      "1    0.173\n",
      "Name: Class, dtype: float64\n"
     ]
    }
   ],
   "source": [
    "print(df_raw.Class.value_counts())\n",
    "\n",
    "print(\"\\n\",\"% distribution\\n\",df_raw.Class.value_counts(True)*100)"
   ]
  },
  {
   "cell_type": "code",
   "execution_count": 8,
   "metadata": {},
   "outputs": [
    {
     "data": {
      "text/plain": [
       "(284807, 30)"
      ]
     },
     "execution_count": 8,
     "metadata": {},
     "output_type": "execute_result"
    }
   ],
   "source": [
    "df_raw.shape"
   ]
  },
  {
   "cell_type": "markdown",
   "metadata": {},
   "source": [
    "#### Scoring function"
   ]
  },
  {
   "cell_type": "code",
   "execution_count": 9,
   "metadata": {},
   "outputs": [],
   "source": [
    "def AUPRC(y_true, y_pred_proba) :\n",
    "    precision, recall, thresholds = precision_recall_curve(y_true = y_true, probas_pred= y_pred_proba)\n",
    "    auprc = auc(recall, precision)\n",
    "    return(np.round(auprc, 4))"
   ]
  },
  {
   "cell_type": "markdown",
   "metadata": {},
   "source": [
    "#### Data Transformation\n",
    "* 1. Quantile Transformation (normal distribution)\n",
    "* 2. standard scaling the data"
   ]
  },
  {
   "cell_type": "code",
   "execution_count": 10,
   "metadata": {},
   "outputs": [],
   "source": [
    "quantile_transformer = QuantileTransformer(output_distribution=\"normal\")\n",
    "standard_scaler = StandardScaler()"
   ]
  },
  {
   "cell_type": "code",
   "execution_count": 11,
   "metadata": {},
   "outputs": [],
   "source": [
    "df_transformed = df_raw.copy()\n",
    "\n",
    "for i in range(df_transformed.iloc[:,:-1].shape[1]):\n",
    "    qt_transformed_var = quantile_transformer.fit_transform(df_transformed.iloc[:,i].values.reshape(-1,1))[:,0]\n",
    "    qt_transformed_std_scaled = standard_scaler.fit_transform(qt_transformed_var.reshape(-1,1))[:,0]\n",
    "    \n",
    "    df_transformed.iloc[:,i] = qt_transformed_std_scaled"
   ]
  },
  {
   "cell_type": "code",
   "execution_count": 12,
   "metadata": {},
   "outputs": [
    {
     "data": {
      "text/html": [
       "<div>\n",
       "<style scoped>\n",
       "    .dataframe tbody tr th:only-of-type {\n",
       "        vertical-align: middle;\n",
       "    }\n",
       "\n",
       "    .dataframe tbody tr th {\n",
       "        vertical-align: top;\n",
       "    }\n",
       "\n",
       "    .dataframe thead th {\n",
       "        text-align: right;\n",
       "    }\n",
       "</style>\n",
       "<table border=\"1\" class=\"dataframe\">\n",
       "  <thead>\n",
       "    <tr style=\"text-align: right;\">\n",
       "      <th></th>\n",
       "      <th>V1</th>\n",
       "      <th>V2</th>\n",
       "      <th>V3</th>\n",
       "      <th>V4</th>\n",
       "      <th>V5</th>\n",
       "      <th>V6</th>\n",
       "      <th>V7</th>\n",
       "      <th>V8</th>\n",
       "      <th>V9</th>\n",
       "      <th>V10</th>\n",
       "      <th>V11</th>\n",
       "      <th>V12</th>\n",
       "      <th>V13</th>\n",
       "      <th>V14</th>\n",
       "      <th>V15</th>\n",
       "      <th>V16</th>\n",
       "      <th>V17</th>\n",
       "      <th>V18</th>\n",
       "      <th>V19</th>\n",
       "      <th>V20</th>\n",
       "      <th>V21</th>\n",
       "      <th>V22</th>\n",
       "      <th>V23</th>\n",
       "      <th>V24</th>\n",
       "      <th>V25</th>\n",
       "      <th>V26</th>\n",
       "      <th>V27</th>\n",
       "      <th>V28</th>\n",
       "      <th>Amount</th>\n",
       "      <th>Class</th>\n",
       "    </tr>\n",
       "  </thead>\n",
       "  <tbody>\n",
       "    <tr>\n",
       "      <th>0</th>\n",
       "      <td>-0.994</td>\n",
       "      <td>-0.159</td>\n",
       "      <td>2.121</td>\n",
       "      <td>1.193</td>\n",
       "      <td>-0.304</td>\n",
       "      <td>0.720</td>\n",
       "      <td>0.289</td>\n",
       "      <td>0.202</td>\n",
       "      <td>0.441</td>\n",
       "      <td>0.305</td>\n",
       "      <td>-0.465</td>\n",
       "      <td>-0.887</td>\n",
       "      <td>-1.002</td>\n",
       "      <td>-0.521</td>\n",
       "      <td>1.782</td>\n",
       "      <td>-0.681</td>\n",
       "      <td>0.399</td>\n",
       "      <td>0.041</td>\n",
       "      <td>0.600</td>\n",
       "      <td>0.971</td>\n",
       "      <td>0.035</td>\n",
       "      <td>0.355</td>\n",
       "      <td>-0.455</td>\n",
       "      <td>0.080</td>\n",
       "      <td>0.194</td>\n",
       "      <td>-0.309</td>\n",
       "      <td>0.840</td>\n",
       "      <td>-0.325</td>\n",
       "      <td>1.028</td>\n",
       "      <td>0</td>\n",
       "    </tr>\n",
       "    <tr>\n",
       "      <th>1</th>\n",
       "      <td>0.461</td>\n",
       "      <td>0.220</td>\n",
       "      <td>-0.013</td>\n",
       "      <td>0.416</td>\n",
       "      <td>0.121</td>\n",
       "      <td>0.216</td>\n",
       "      <td>-0.160</td>\n",
       "      <td>0.168</td>\n",
       "      <td>-0.250</td>\n",
       "      <td>-0.117</td>\n",
       "      <td>1.641</td>\n",
       "      <td>1.360</td>\n",
       "      <td>0.509</td>\n",
       "      <td>-0.288</td>\n",
       "      <td>0.665</td>\n",
       "      <td>0.584</td>\n",
       "      <td>-0.075</td>\n",
       "      <td>-0.254</td>\n",
       "      <td>-0.227</td>\n",
       "      <td>-0.028</td>\n",
       "      <td>-0.669</td>\n",
       "      <td>-0.834</td>\n",
       "      <td>0.495</td>\n",
       "      <td>-0.649</td>\n",
       "      <td>0.272</td>\n",
       "      <td>0.385</td>\n",
       "      <td>-0.096</td>\n",
       "      <td>0.055</td>\n",
       "      <td>-0.839</td>\n",
       "      <td>0</td>\n",
       "    </tr>\n",
       "    <tr>\n",
       "      <th>2</th>\n",
       "      <td>-0.993</td>\n",
       "      <td>-1.269</td>\n",
       "      <td>1.387</td>\n",
       "      <td>0.345</td>\n",
       "      <td>-0.483</td>\n",
       "      <td>1.375</td>\n",
       "      <td>0.963</td>\n",
       "      <td>0.536</td>\n",
       "      <td>-1.455</td>\n",
       "      <td>0.452</td>\n",
       "      <td>0.567</td>\n",
       "      <td>-0.097</td>\n",
       "      <td>0.729</td>\n",
       "      <td>-0.320</td>\n",
       "      <td>2.810</td>\n",
       "      <td>-2.669</td>\n",
       "      <td>1.495</td>\n",
       "      <td>-0.167</td>\n",
       "      <td>-2.498</td>\n",
       "      <td>1.376</td>\n",
       "      <td>0.888</td>\n",
       "      <td>1.033</td>\n",
       "      <td>2.013</td>\n",
       "      <td>-1.122</td>\n",
       "      <td>-0.702</td>\n",
       "      <td>-0.192</td>\n",
       "      <td>-0.531</td>\n",
       "      <td>-0.767</td>\n",
       "      <td>1.588</td>\n",
       "      <td>0</td>\n",
       "    </tr>\n",
       "    <tr>\n",
       "      <th>3</th>\n",
       "      <td>-0.713</td>\n",
       "      <td>-0.286</td>\n",
       "      <td>1.406</td>\n",
       "      <td>-0.685</td>\n",
       "      <td>0.048</td>\n",
       "      <td>1.181</td>\n",
       "      <td>0.286</td>\n",
       "      <td>0.757</td>\n",
       "      <td>-1.356</td>\n",
       "      <td>0.059</td>\n",
       "      <td>-0.175</td>\n",
       "      <td>0.053</td>\n",
       "      <td>0.528</td>\n",
       "      <td>-0.489</td>\n",
       "      <td>-0.727</td>\n",
       "      <td>-1.282</td>\n",
       "      <td>-1.050</td>\n",
       "      <td>2.204</td>\n",
       "      <td>-1.520</td>\n",
       "      <td>-0.657</td>\n",
       "      <td>-0.262</td>\n",
       "      <td>-0.001</td>\n",
       "      <td>-0.791</td>\n",
       "      <td>-1.674</td>\n",
       "      <td>1.398</td>\n",
       "      <td>-0.390</td>\n",
       "      <td>0.524</td>\n",
       "      <td>0.575</td>\n",
       "      <td>0.921</td>\n",
       "      <td>0</td>\n",
       "    </tr>\n",
       "    <tr>\n",
       "      <th>4</th>\n",
       "      <td>-0.859</td>\n",
       "      <td>0.753</td>\n",
       "      <td>1.162</td>\n",
       "      <td>0.367</td>\n",
       "      <td>-0.378</td>\n",
       "      <td>0.399</td>\n",
       "      <td>0.705</td>\n",
       "      <td>-0.854</td>\n",
       "      <td>0.867</td>\n",
       "      <td>0.956</td>\n",
       "      <td>-0.740</td>\n",
       "      <td>0.555</td>\n",
       "      <td>1.389</td>\n",
       "      <td>-1.388</td>\n",
       "      <td>0.141</td>\n",
       "      <td>-0.659</td>\n",
       "      <td>-0.257</td>\n",
       "      <td>-0.047</td>\n",
       "      <td>1.106</td>\n",
       "      <td>1.237</td>\n",
       "      <td>0.064</td>\n",
       "      <td>1.076</td>\n",
       "      <td>-0.572</td>\n",
       "      <td>0.225</td>\n",
       "      <td>-0.413</td>\n",
       "      <td>1.024</td>\n",
       "      <td>1.071</td>\n",
       "      <td>1.457</td>\n",
       "      <td>0.596</td>\n",
       "      <td>0</td>\n",
       "    </tr>\n",
       "  </tbody>\n",
       "</table>\n",
       "</div>"
      ],
      "text/plain": [
       "      V1     V2     V3     V4     V5    V6     V7     V8     V9    V10    V11  \\\n",
       "0 -0.994 -0.159  2.121  1.193 -0.304 0.720  0.289  0.202  0.441  0.305 -0.465   \n",
       "1  0.461  0.220 -0.013  0.416  0.121 0.216 -0.160  0.168 -0.250 -0.117  1.641   \n",
       "2 -0.993 -1.269  1.387  0.345 -0.483 1.375  0.963  0.536 -1.455  0.452  0.567   \n",
       "3 -0.713 -0.286  1.406 -0.685  0.048 1.181  0.286  0.757 -1.356  0.059 -0.175   \n",
       "4 -0.859  0.753  1.162  0.367 -0.378 0.399  0.705 -0.854  0.867  0.956 -0.740   \n",
       "\n",
       "     V12    V13    V14    V15    V16    V17    V18    V19    V20    V21  \\\n",
       "0 -0.887 -1.002 -0.521  1.782 -0.681  0.399  0.041  0.600  0.971  0.035   \n",
       "1  1.360  0.509 -0.288  0.665  0.584 -0.075 -0.254 -0.227 -0.028 -0.669   \n",
       "2 -0.097  0.729 -0.320  2.810 -2.669  1.495 -0.167 -2.498  1.376  0.888   \n",
       "3  0.053  0.528 -0.489 -0.727 -1.282 -1.050  2.204 -1.520 -0.657 -0.262   \n",
       "4  0.555  1.389 -1.388  0.141 -0.659 -0.257 -0.047  1.106  1.237  0.064   \n",
       "\n",
       "     V22    V23    V24    V25    V26    V27    V28  Amount  Class  \n",
       "0  0.355 -0.455  0.080  0.194 -0.309  0.840 -0.325   1.028      0  \n",
       "1 -0.834  0.495 -0.649  0.272  0.385 -0.096  0.055  -0.839      0  \n",
       "2  1.033  2.013 -1.122 -0.702 -0.192 -0.531 -0.767   1.588      0  \n",
       "3 -0.001 -0.791 -1.674  1.398 -0.390  0.524  0.575   0.921      0  \n",
       "4  1.076 -0.572  0.225 -0.413  1.024  1.071  1.457   0.596      0  "
      ]
     },
     "execution_count": 12,
     "metadata": {},
     "output_type": "execute_result"
    }
   ],
   "source": [
    "df_transformed.head()"
   ]
  },
  {
   "cell_type": "markdown",
   "metadata": {},
   "source": [
    "##### Evaluating Tree Based Classifiers using selected features\n",
    "1. 5 fold CV to estimate F1 and AUPRC : Actual Data\n",
    "2. 5 fold CV to estimate F1 and AUPRC : SMOTE Oversampled Data    "
   ]
  },
  {
   "cell_type": "code",
   "execution_count": 18,
   "metadata": {},
   "outputs": [],
   "source": [
    "#selected vars\n",
    "all_vars = list(set(list(df_transformed.columns)) - set([\"V8\",\"V13\",\"V15\", \"V19\", \"V20\", \"V22\", \"V23\",\"V24\", \"V25\", \"V26\", \"Amount\"]))\n",
    " \n",
    "new_df = df_transformed[all_vars]"
   ]
  },
  {
   "cell_type": "code",
   "execution_count": 19,
   "metadata": {},
   "outputs": [
    {
     "data": {
      "text/html": [
       "<div>\n",
       "<style scoped>\n",
       "    .dataframe tbody tr th:only-of-type {\n",
       "        vertical-align: middle;\n",
       "    }\n",
       "\n",
       "    .dataframe tbody tr th {\n",
       "        vertical-align: top;\n",
       "    }\n",
       "\n",
       "    .dataframe thead th {\n",
       "        text-align: right;\n",
       "    }\n",
       "</style>\n",
       "<table border=\"1\" class=\"dataframe\">\n",
       "  <thead>\n",
       "    <tr style=\"text-align: right;\">\n",
       "      <th></th>\n",
       "      <th>V11</th>\n",
       "      <th>V10</th>\n",
       "      <th>V2</th>\n",
       "      <th>V17</th>\n",
       "      <th>V7</th>\n",
       "      <th>V6</th>\n",
       "      <th>V27</th>\n",
       "      <th>V5</th>\n",
       "      <th>V14</th>\n",
       "      <th>V3</th>\n",
       "      <th>V16</th>\n",
       "      <th>V28</th>\n",
       "      <th>V21</th>\n",
       "      <th>V18</th>\n",
       "      <th>V12</th>\n",
       "      <th>V4</th>\n",
       "      <th>V9</th>\n",
       "      <th>Class</th>\n",
       "      <th>V1</th>\n",
       "    </tr>\n",
       "  </thead>\n",
       "  <tbody>\n",
       "    <tr>\n",
       "      <th>0</th>\n",
       "      <td>-0.465</td>\n",
       "      <td>0.305</td>\n",
       "      <td>-0.159</td>\n",
       "      <td>0.399</td>\n",
       "      <td>0.289</td>\n",
       "      <td>0.720</td>\n",
       "      <td>0.840</td>\n",
       "      <td>-0.304</td>\n",
       "      <td>-0.521</td>\n",
       "      <td>2.121</td>\n",
       "      <td>-0.681</td>\n",
       "      <td>-0.325</td>\n",
       "      <td>0.035</td>\n",
       "      <td>0.041</td>\n",
       "      <td>-0.887</td>\n",
       "      <td>1.193</td>\n",
       "      <td>0.441</td>\n",
       "      <td>0</td>\n",
       "      <td>-0.994</td>\n",
       "    </tr>\n",
       "    <tr>\n",
       "      <th>1</th>\n",
       "      <td>1.641</td>\n",
       "      <td>-0.117</td>\n",
       "      <td>0.220</td>\n",
       "      <td>-0.075</td>\n",
       "      <td>-0.160</td>\n",
       "      <td>0.216</td>\n",
       "      <td>-0.096</td>\n",
       "      <td>0.121</td>\n",
       "      <td>-0.288</td>\n",
       "      <td>-0.013</td>\n",
       "      <td>0.584</td>\n",
       "      <td>0.055</td>\n",
       "      <td>-0.669</td>\n",
       "      <td>-0.254</td>\n",
       "      <td>1.360</td>\n",
       "      <td>0.416</td>\n",
       "      <td>-0.250</td>\n",
       "      <td>0</td>\n",
       "      <td>0.461</td>\n",
       "    </tr>\n",
       "    <tr>\n",
       "      <th>2</th>\n",
       "      <td>0.567</td>\n",
       "      <td>0.452</td>\n",
       "      <td>-1.269</td>\n",
       "      <td>1.495</td>\n",
       "      <td>0.963</td>\n",
       "      <td>1.375</td>\n",
       "      <td>-0.531</td>\n",
       "      <td>-0.483</td>\n",
       "      <td>-0.320</td>\n",
       "      <td>1.387</td>\n",
       "      <td>-2.669</td>\n",
       "      <td>-0.767</td>\n",
       "      <td>0.888</td>\n",
       "      <td>-0.167</td>\n",
       "      <td>-0.097</td>\n",
       "      <td>0.345</td>\n",
       "      <td>-1.455</td>\n",
       "      <td>0</td>\n",
       "      <td>-0.993</td>\n",
       "    </tr>\n",
       "    <tr>\n",
       "      <th>3</th>\n",
       "      <td>-0.175</td>\n",
       "      <td>0.059</td>\n",
       "      <td>-0.286</td>\n",
       "      <td>-1.050</td>\n",
       "      <td>0.286</td>\n",
       "      <td>1.181</td>\n",
       "      <td>0.524</td>\n",
       "      <td>0.048</td>\n",
       "      <td>-0.489</td>\n",
       "      <td>1.406</td>\n",
       "      <td>-1.282</td>\n",
       "      <td>0.575</td>\n",
       "      <td>-0.262</td>\n",
       "      <td>2.204</td>\n",
       "      <td>0.053</td>\n",
       "      <td>-0.685</td>\n",
       "      <td>-1.356</td>\n",
       "      <td>0</td>\n",
       "      <td>-0.713</td>\n",
       "    </tr>\n",
       "    <tr>\n",
       "      <th>4</th>\n",
       "      <td>-0.740</td>\n",
       "      <td>0.956</td>\n",
       "      <td>0.753</td>\n",
       "      <td>-0.257</td>\n",
       "      <td>0.705</td>\n",
       "      <td>0.399</td>\n",
       "      <td>1.071</td>\n",
       "      <td>-0.378</td>\n",
       "      <td>-1.388</td>\n",
       "      <td>1.162</td>\n",
       "      <td>-0.659</td>\n",
       "      <td>1.457</td>\n",
       "      <td>0.064</td>\n",
       "      <td>-0.047</td>\n",
       "      <td>0.555</td>\n",
       "      <td>0.367</td>\n",
       "      <td>0.867</td>\n",
       "      <td>0</td>\n",
       "      <td>-0.859</td>\n",
       "    </tr>\n",
       "  </tbody>\n",
       "</table>\n",
       "</div>"
      ],
      "text/plain": [
       "     V11    V10     V2    V17     V7    V6    V27     V5    V14     V3    V16  \\\n",
       "0 -0.465  0.305 -0.159  0.399  0.289 0.720  0.840 -0.304 -0.521  2.121 -0.681   \n",
       "1  1.641 -0.117  0.220 -0.075 -0.160 0.216 -0.096  0.121 -0.288 -0.013  0.584   \n",
       "2  0.567  0.452 -1.269  1.495  0.963 1.375 -0.531 -0.483 -0.320  1.387 -2.669   \n",
       "3 -0.175  0.059 -0.286 -1.050  0.286 1.181  0.524  0.048 -0.489  1.406 -1.282   \n",
       "4 -0.740  0.956  0.753 -0.257  0.705 0.399  1.071 -0.378 -1.388  1.162 -0.659   \n",
       "\n",
       "     V28    V21    V18    V12     V4     V9  Class     V1  \n",
       "0 -0.325  0.035  0.041 -0.887  1.193  0.441      0 -0.994  \n",
       "1  0.055 -0.669 -0.254  1.360  0.416 -0.250      0  0.461  \n",
       "2 -0.767  0.888 -0.167 -0.097  0.345 -1.455      0 -0.993  \n",
       "3  0.575 -0.262  2.204  0.053 -0.685 -1.356      0 -0.713  \n",
       "4  1.457  0.064 -0.047  0.555  0.367  0.867      0 -0.859  "
      ]
     },
     "execution_count": 19,
     "metadata": {},
     "output_type": "execute_result"
    }
   ],
   "source": [
    "new_df.head()"
   ]
  },
  {
   "cell_type": "code",
   "execution_count": 20,
   "metadata": {},
   "outputs": [],
   "source": [
    "def create_stratified_folds(data, k_fold_num, target_variable):\n",
    "    data[\"kfold\"] = -1 # we create a new column called kfold and fill it with -1\n",
    "    data = data.sample(frac=1).reset_index(drop=True) # the next step is to randomize the rows of the data\n",
    "\n",
    "    y = data[target_variable].values\n",
    "\n",
    "    kf = model_selection.StratifiedKFold(n_splits= k_fold_num)\n",
    "\n",
    "    for fold, (trn_, partitioned_idx_) in enumerate(kf.split(X=data, y = y)):\n",
    "        data.loc[partitioned_idx_, 'kfold'] = fold\n",
    "    return(data)"
   ]
  },
  {
   "cell_type": "code",
   "execution_count": 21,
   "metadata": {},
   "outputs": [],
   "source": [
    "#### Scoring function\n",
    "def AUPRC(y_true, y_pred_proba) :\n",
    "    precision, recall, thresholds = precision_recall_curve(y_true = y_true, probas_pred= y_pred_proba)\n",
    "    auprc = auc(recall, precision)\n",
    "    return(np.round(auprc, 4))"
   ]
  },
  {
   "cell_type": "code",
   "execution_count": 22,
   "metadata": {},
   "outputs": [],
   "source": [
    "# defining models\n",
    "models = []\n",
    "models.append(('RF', RandomForestClassifier(n_jobs = -1)))\n",
    "models.append(('ETC', ExtraTreesClassifier( n_jobs = -1)))\n",
    "models.append(('XGB', XGBClassifier(n_jobs = -1)))"
   ]
  },
  {
   "cell_type": "code",
   "execution_count": 23,
   "metadata": {},
   "outputs": [],
   "source": [
    "# Creating stratified k-fold within the data\n",
    "df = new_df.copy()\n",
    "k_fold_num = 5\n",
    "df = create_stratified_folds(df, k_fold_num = 5, target_variable = \"Class\")\n",
    "features = [f for f in df.columns if f not in [\"kfold\",\"Class\"]]"
   ]
  },
  {
   "cell_type": "markdown",
   "metadata": {},
   "source": [
    "#### 1. Algorithms Evaluation : 5 fold CV to estimate F1 and AUPRC : Actual Data"
   ]
  },
  {
   "cell_type": "code",
   "execution_count": 24,
   "metadata": {},
   "outputs": [
    {
     "name": "stdout",
     "output_type": "stream",
     "text": [
      "Model :  RF\n",
      "Average Area Under Precision Recall Curve =  0.84\n",
      "Average F1 score =  0.86\n",
      "Time Taken in minutes =  3.47\n",
      "\n",
      "\n",
      "Model :  ETC\n",
      "Average Area Under Precision Recall Curve =  0.85\n",
      "Average F1 score =  0.86\n",
      "Time Taken in minutes =  0.77\n",
      "\n",
      "\n",
      "Model :  XGB\n",
      "Average Area Under Precision Recall Curve =  0.85\n",
      "Average F1 score =  0.86\n",
      "Time Taken in minutes =  2.42\n",
      "\n",
      "\n"
     ]
    }
   ],
   "source": [
    "F1_score_results = {}\n",
    "AUPRC_results = {}\n",
    "time_taken = {}\n",
    "\n",
    "for name, model in models:\n",
    "    t0 = perf_counter()\n",
    "    \n",
    "    cv_auprc = []\n",
    "    f1_scores = []\n",
    "    for fold in range(k_fold_num):\n",
    "        df_train = df[df.kfold != fold].reset_index(drop=True)\n",
    "        df_valid = df[df.kfold == fold].reset_index(drop=True)\n",
    "\n",
    "        x_train = df_train[features].values\n",
    "        x_valid = df_valid[features].values\n",
    "        \n",
    "        model.fit(x_train, df_train.Class.values)\n",
    "        \n",
    "        valid_preds = model.predict_proba(x_valid)[:, 1]\n",
    "        valid_preds_binary = model.predict(x_valid)\n",
    "        \n",
    "        auprc = AUPRC(df_valid.Class.values, valid_preds)\n",
    "        f1 = f1_score(df_valid.Class.values, valid_preds_binary)\n",
    "        \n",
    "        cv_auprc.append(auprc)\n",
    "        f1_scores.append(np.round(f1,4))\n",
    "        \n",
    "    t1 = perf_counter()\n",
    "    \n",
    "    AUPRC_results[name] = cv_auprc\n",
    "    F1_score_results[name] = f1_scores\n",
    "    time_taken[name] = np.round((t1 - t0)/60,2)\n",
    "    \n",
    "    print(\"Model : \", name)\n",
    "    print(\"Average Area Under Precision Recall Curve = \", np.round(np.mean(cv_auprc),2))\n",
    "    print(\"Average F1 score = \", np.round(np.mean(f1_scores),2))\n",
    "    print(\"Time Taken in minutes = \", time_taken[name])\n",
    "    print(\"\\n\")"
   ]
  },
  {
   "cell_type": "code",
   "execution_count": 25,
   "metadata": {},
   "outputs": [
    {
     "data": {
      "text/plain": [
       "{'RF': [0.8203, 0.8729, 0.8187, 0.8362, 0.8711],\n",
       " 'ETC': [0.8368, 0.8728, 0.823, 0.8614, 0.8579],\n",
       " 'XGB': [0.8392, 0.8726, 0.821, 0.8562, 0.8579]}"
      ]
     },
     "execution_count": 25,
     "metadata": {},
     "output_type": "execute_result"
    }
   ],
   "source": [
    "AUPRC_results"
   ]
  },
  {
   "cell_type": "code",
   "execution_count": 26,
   "metadata": {},
   "outputs": [
    {
     "data": {
      "text/plain": [
       "{'RF': [0.8432, 0.8539, 0.875, 0.8804, 0.8539],\n",
       " 'ETC': [0.8387, 0.8715, 0.8571, 0.8696, 0.8571],\n",
       " 'XGB': [0.8342, 0.8729, 0.8778, 0.8817, 0.8457]}"
      ]
     },
     "execution_count": 26,
     "metadata": {},
     "output_type": "execute_result"
    }
   ],
   "source": [
    "F1_score_results"
   ]
  },
  {
   "cell_type": "code",
   "execution_count": 27,
   "metadata": {},
   "outputs": [
    {
     "data": {
      "text/plain": [
       "Text(0.5, 0, 'Model')"
      ]
     },
     "execution_count": 27,
     "metadata": {},
     "output_type": "execute_result"
    },
    {
     "data": {
      "image/png": "[encoded data removed]",
      "text/plain": [
       "<Figure size 576x432 with 1 Axes>"
      ]
     },
     "metadata": {
      "needs_background": "light"
     },
     "output_type": "display_data"
    }
   ],
   "source": [
    "## Plotting \n",
    "AUPRC_results = pd.DataFrame(AUPRC_results)\n",
    "plt.figure(figsize=(8, 6))\n",
    "sns.boxplot(data=AUPRC_results)\n",
    "sns.swarmplot(data=AUPRC_results, color = \"black\")\n",
    "plt.title(\"AUPRC comparision, 5 fold CV : Original Data\")\n",
    "plt.ylabel(\"Area Under Precision Recall Curve\")\n",
    "plt.xlabel(\"Model\")"
   ]
  },
  {
   "cell_type": "markdown",
   "metadata": {},
   "source": [
    "#### 2. Algorithm Evaluation on Oversampled data : SMOTE\n",
    "For each Fold :\n",
    "    * splitting the fold data into train and validation\n",
    "    * Oversampling the train data\n",
    "    * Fitting model on oversampled data\n",
    "    * Prediction on the left out validation set"
   ]
  },
  {
   "cell_type": "code",
   "execution_count": 28,
   "metadata": {},
   "outputs": [
    {
     "name": "stdout",
     "output_type": "stream",
     "text": [
      "Model :  RF\n",
      "Average Area Under Precision Recall Curve =  0.84\n",
      "Average F1 score =  0.84\n",
      "Time Taken in minutes =  6.45\n",
      "\n",
      "\n",
      "Model :  ETC\n",
      "Average Area Under Precision Recall Curve =  0.85\n",
      "Average F1 score =  0.85\n",
      "Time Taken in minutes =  2.73\n",
      "\n",
      "\n",
      "Model :  XGB\n",
      "Average Area Under Precision Recall Curve =  0.83\n",
      "Average F1 score =  0.76\n",
      "Time Taken in minutes =  7.31\n",
      "\n",
      "\n"
     ]
    }
   ],
   "source": [
    "F1_score_results = {}\n",
    "AUPRC_results = {}\n",
    "time_taken = {}\n",
    "\n",
    "for name, model in models:\n",
    "    t0 = perf_counter()\n",
    "    \n",
    "    cv_auprc = []\n",
    "    f1_scores = []\n",
    "    for fold in range(k_fold_num):\n",
    "        df_train = df[df.kfold != fold].reset_index(drop=True)\n",
    "        df_valid = df[df.kfold == fold].reset_index(drop=True)\n",
    "        \n",
    "        ## Oversampling the df_train data : SMOTE\n",
    "        x_train = df_train[features].values\n",
    "        y_train = df_train[\"Class\"].values\n",
    "        \n",
    "        x_train_smote, y_train_smote = SMOTE().fit_sample(x_train, y_train)\n",
    "        \n",
    "        ## Validation dataset\n",
    "        x_valid = df_valid[features].values\n",
    "        y_valid = df_valid[\"Class\"].values\n",
    "        \n",
    "        model.fit(x_train_smote, y_train_smote)\n",
    "        \n",
    "        valid_preds = model.predict_proba(x_valid)[:, 1]\n",
    "        valid_preds_binary = model.predict(x_valid)\n",
    "        \n",
    "        auprc = AUPRC(y_valid, valid_preds)\n",
    "        f1 = f1_score(y_valid, valid_preds_binary)\n",
    "        \n",
    "        cv_auprc.append(auprc)\n",
    "        f1_scores.append(np.round(f1,4))\n",
    "        \n",
    "    t1 = perf_counter()\n",
    "    \n",
    "    AUPRC_results[name] = cv_auprc\n",
    "    F1_score_results[name] = f1_scores\n",
    "    time_taken[name] = np.round((t1 - t0)/60,2)\n",
    "    \n",
    "    print(\"Model : \", name)\n",
    "    print(\"Average Area Under Precision Recall Curve = \", np.round(np.mean(cv_auprc),2))\n",
    "    print(\"Average F1 score = \", np.round(np.mean(f1_scores),2))\n",
    "    print(\"Time Taken in minutes = \", time_taken[name])\n",
    "    print(\"\\n\")"
   ]
  },
  {
   "cell_type": "code",
   "execution_count": 29,
   "metadata": {},
   "outputs": [
    {
     "data": {
      "text/plain": [
       "{'RF': [0.8083, 0.8738, 0.822, 0.8297, 0.8429],\n",
       " 'ETC': [0.8109, 0.8861, 0.8264, 0.858, 0.8512],\n",
       " 'XGB': [0.8211, 0.8491, 0.8132, 0.8456, 0.8428]}"
      ]
     },
     "execution_count": 29,
     "metadata": {},
     "output_type": "execute_result"
    }
   ],
   "source": [
    "AUPRC_results"
   ]
  },
  {
   "cell_type": "code",
   "execution_count": 30,
   "metadata": {},
   "outputs": [
    {
     "data": {
      "text/plain": [
       "{'RF': [0.8122, 0.8723, 0.8041, 0.8485, 0.8556],\n",
       " 'ETC': [0.8308, 0.8526, 0.837, 0.8601, 0.8649],\n",
       " 'XGB': [0.7615, 0.7757, 0.7281, 0.7467, 0.765]}"
      ]
     },
     "execution_count": 30,
     "metadata": {},
     "output_type": "execute_result"
    }
   ],
   "source": [
    "F1_score_results"
   ]
  },
  {
   "cell_type": "code",
   "execution_count": 31,
   "metadata": {},
   "outputs": [
    {
     "data": {
      "text/plain": [
       "Text(0.5, 0, 'Model')"
      ]
     },
     "execution_count": 31,
     "metadata": {},
     "output_type": "execute_result"
    },
    {
     "data": {
      "image/png": "[encoded data removed]",
      "text/plain": [
       "<Figure size 576x432 with 1 Axes>"
      ]
     },
     "metadata": {
      "needs_background": "light"
     },
     "output_type": "display_data"
    }
   ],
   "source": [
    "## Plotting \n",
    "AUPRC_results = pd.DataFrame(AUPRC_results)\n",
    "plt.figure(figsize=(8, 6))\n",
    "sns.boxplot(data=AUPRC_results)\n",
    "sns.swarmplot(data=AUPRC_results, color = \"black\")\n",
    "plt.title(\"AUPRC comparision, 5 fold CV : SMOTE Oversampling\")\n",
    "plt.ylabel(\"Area Under Precision Recall Curve\")\n",
    "plt.xlabel(\"Model\")"
   ]
  },
  {
   "cell_type": "code",
   "execution_count": null,
   "metadata": {},
   "outputs": [],
   "source": []
  },
  {
   "cell_type": "code",
   "execution_count": null,
   "metadata": {},
   "outputs": [],
   "source": []
  },
  {
   "cell_type": "code",
   "execution_count": null,
   "metadata": {},
   "outputs": [],
   "source": []
  },
  {
   "cell_type": "code",
   "execution_count": null,
   "metadata": {},
   "outputs": [],
   "source": []
  },
  {
   "cell_type": "code",
   "execution_count": null,
   "metadata": {},
   "outputs": [],
   "source": []
  },
  {
   "cell_type": "code",
   "execution_count": null,
   "metadata": {},
   "outputs": [],
   "source": []
  },
  {
   "cell_type": "code",
   "execution_count": null,
   "metadata": {},
   "outputs": [],
   "source": []
  },
  {
   "cell_type": "code",
   "execution_count": null,
   "metadata": {},
   "outputs": [],
   "source": []
  },
  {
   "cell_type": "code",
   "execution_count": null,
   "metadata": {},
   "outputs": [],
   "source": []
  },
  {
   "cell_type": "code",
   "execution_count": null,
   "metadata": {},
   "outputs": [],
   "source": []
  },
  {
   "cell_type": "code",
   "execution_count": null,
   "metadata": {},
   "outputs": [],
   "source": []
  },
  {
   "cell_type": "code",
   "execution_count": null,
   "metadata": {},
   "outputs": [],
   "source": []
  },
  {
   "cell_type": "code",
   "execution_count": null,
   "metadata": {},
   "outputs": [],
   "source": []
  },
  {
   "cell_type": "code",
   "execution_count": null,
   "metadata": {},
   "outputs": [],
   "source": []
  },
  {
   "cell_type": "code",
   "execution_count": null,
   "metadata": {},
   "outputs": [],
   "source": []
  },
  {
   "cell_type": "code",
   "execution_count": null,
   "metadata": {},
   "outputs": [],
   "source": []
  },
  {
   "cell_type": "code",
   "execution_count": null,
   "metadata": {},
   "outputs": [],
   "source": []
  },
  {
   "cell_type": "code",
   "execution_count": null,
   "metadata": {},
   "outputs": [],
   "source": []
  },
  {
   "cell_type": "code",
   "execution_count": null,
   "metadata": {},
   "outputs": [],
   "source": []
  },
  {
   "cell_type": "code",
   "execution_count": null,
   "metadata": {},
   "outputs": [],
   "source": []
  },
  {
   "cell_type": "code",
   "execution_count": null,
   "metadata": {},
   "outputs": [],
   "source": []
  },
  {
   "cell_type": "code",
   "execution_count": null,
   "metadata": {},
   "outputs": [],
   "source": []
  },
  {
   "cell_type": "code",
   "execution_count": null,
   "metadata": {},
   "outputs": [],
   "source": []
  },
  {
   "cell_type": "code",
   "execution_count": null,
   "metadata": {},
   "outputs": [],
   "source": []
  },
  {
   "cell_type": "code",
   "execution_count": null,
   "metadata": {},
   "outputs": [],
   "source": []
  },
  {
   "cell_type": "code",
   "execution_count": null,
   "metadata": {},
   "outputs": [],
   "source": []
  },
  {
   "cell_type": "code",
   "execution_count": null,
   "metadata": {},
   "outputs": [],
   "source": []
  },
  {
   "cell_type": "code",
   "execution_count": null,
   "metadata": {},
   "outputs": [],
   "source": []
  },
  {
   "cell_type": "code",
   "execution_count": null,
   "metadata": {},
   "outputs": [],
   "source": []
  },
  {
   "cell_type": "code",
   "execution_count": null,
   "metadata": {},
   "outputs": [],
   "source": []
  },
  {
   "cell_type": "code",
   "execution_count": null,
   "metadata": {},
   "outputs": [],
   "source": []
  },
  {
   "cell_type": "code",
   "execution_count": null,
   "metadata": {},
   "outputs": [],
   "source": []
  },
  {
   "cell_type": "code",
   "execution_count": null,
   "metadata": {},
   "outputs": [],
   "source": []
  },
  {
   "cell_type": "code",
   "execution_count": null,
   "metadata": {},
   "outputs": [],
   "source": []
  },
  {
   "cell_type": "code",
   "execution_count": null,
   "metadata": {},
   "outputs": [],
   "source": []
  },
  {
   "cell_type": "code",
   "execution_count": null,
   "metadata": {},
   "outputs": [],
   "source": []
  },
  {
   "cell_type": "code",
   "execution_count": null,
   "metadata": {},
   "outputs": [],
   "source": []
  },
  {
   "cell_type": "code",
   "execution_count": null,
   "metadata": {},
   "outputs": [],
   "source": []
  },
  {
   "cell_type": "code",
   "execution_count": null,
   "metadata": {},
   "outputs": [],
   "source": []
  },
  {
   "cell_type": "code",
   "execution_count": null,
   "metadata": {},
   "outputs": [],
   "source": []
  },
  {
   "cell_type": "code",
   "execution_count": null,
   "metadata": {},
   "outputs": [],
   "source": []
  },
  {
   "cell_type": "code",
   "execution_count": null,
   "metadata": {},
   "outputs": [],
   "source": []
  },
  {
   "cell_type": "code",
   "execution_count": null,
   "metadata": {},
   "outputs": [],
   "source": []
  },
  {
   "cell_type": "code",
   "execution_count": null,
   "metadata": {},
   "outputs": [],
   "source": []
  },
  {
   "cell_type": "code",
   "execution_count": null,
   "metadata": {},
   "outputs": [],
   "source": []
  },
  {
   "cell_type": "code",
   "execution_count": null,
   "metadata": {},
   "outputs": [],
   "source": []
  },
  {
   "cell_type": "code",
   "execution_count": null,
   "metadata": {},
   "outputs": [],
   "source": []
  },
  {
   "cell_type": "code",
   "execution_count": null,
   "metadata": {},
   "outputs": [],
   "source": []
  },
  {
   "cell_type": "code",
   "execution_count": null,
   "metadata": {},
   "outputs": [],
   "source": []
  },
  {
   "cell_type": "code",
   "execution_count": null,
   "metadata": {},
   "outputs": [],
   "source": []
  },
  {
   "cell_type": "code",
   "execution_count": null,
   "metadata": {},
   "outputs": [],
   "source": []
  },
  {
   "cell_type": "code",
   "execution_count": null,
   "metadata": {},
   "outputs": [],
   "source": []
  },
  {
   "cell_type": "code",
   "execution_count": null,
   "metadata": {},
   "outputs": [],
   "source": []
  },
  {
   "cell_type": "code",
   "execution_count": null,
   "metadata": {},
   "outputs": [],
   "source": []
  },
  {
   "cell_type": "code",
   "execution_count": null,
   "metadata": {},
   "outputs": [],
   "source": []
  },
  {
   "cell_type": "code",
   "execution_count": null,
   "metadata": {},
   "outputs": [],
   "source": []
  },
  {
   "cell_type": "code",
   "execution_count": null,
   "metadata": {},
   "outputs": [],
   "source": []
  },
  {
   "cell_type": "code",
   "execution_count": null,
   "metadata": {},
   "outputs": [],
   "source": []
  },
  {
   "cell_type": "code",
   "execution_count": null,
   "metadata": {},
   "outputs": [],
   "source": []
  },
  {
   "cell_type": "code",
   "execution_count": null,
   "metadata": {},
   "outputs": [],
   "source": []
  },
  {
   "cell_type": "code",
   "execution_count": null,
   "metadata": {},
   "outputs": [],
   "source": []
  },
  {
   "cell_type": "code",
   "execution_count": null,
   "metadata": {},
   "outputs": [],
   "source": []
  },
  {
   "cell_type": "code",
   "execution_count": null,
   "metadata": {},
   "outputs": [],
   "source": []
  },
  {
   "cell_type": "code",
   "execution_count": null,
   "metadata": {},
   "outputs": [],
   "source": []
  }
 ],
 "metadata": {
  "kernelspec": {
   "display_name": "Python 3",
   "language": "python",
   "name": "python3"
  },
  "language_info": {
   "codemirror_mode": {
    "name": "ipython",
    "version": 3
   },
   "file_extension": ".py",
   "mimetype": "text/x-python",
   "name": "python",
   "nbconvert_exporter": "python",
   "pygments_lexer": "ipython3",
   "version": "3.7.4"
  }
 },
 "nbformat": 4,
 "nbformat_minor": 2
}
