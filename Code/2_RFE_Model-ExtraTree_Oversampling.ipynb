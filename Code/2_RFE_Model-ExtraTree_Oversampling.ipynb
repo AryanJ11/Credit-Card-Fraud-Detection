{
 "cells": [
  {
   "cell_type": "code",
   "execution_count": 1,
   "metadata": {},
   "outputs": [
    {
     "name": "stderr",
     "output_type": "stream",
     "text": [
      "C:\\Users\\shivam.yadav\\AppData\\Local\\Continuum\\anaconda3\\lib\\site-packages\\statsmodels\\tools\\_testing.py:19: FutureWarning: pandas.util.testing is deprecated. Use the functions in the public API at pandas.testing instead.\n",
      "  import pandas.util.testing as tm\n"
     ]
    },
    {
     "data": {
      "text/html": [
       "<style>.container { width:100% !important; }</style>"
      ],
      "text/plain": [
       "<IPython.core.display.HTML object>"
      ]
     },
     "metadata": {},
     "output_type": "display_data"
    }
   ],
   "source": [
    "## Import Essential Data handling libraries\n",
    "import pandas as pd\n",
    "import numpy as np\n",
    "\n",
    "from math import floor\n",
    "from time import perf_counter\n",
    "\n",
    "import matplotlib.pyplot as plt,seaborn as sns\n",
    "import matplotlib as mpl\n",
    "%matplotlib inline\n",
    "\n",
    "\n",
    "from sklearn.preprocessing import QuantileTransformer\n",
    "from sklearn.preprocessing import StandardScaler\n",
    "\n",
    "pd.set_option('display.max_rows', 500)\n",
    "pd.set_option('display.max_columns', 500)\n",
    "pd.set_option('display.float_format', lambda x: '%.3f' % x)\n",
    "\n",
    "from IPython.core.display import display, HTML\n",
    "display(HTML(\"<style>.container { width:100% !important; }</style>\"))\n",
    "\n",
    "import warnings\n",
    "warnings.filterwarnings(\"ignore\")"
   ]
  },
  {
   "cell_type": "code",
   "execution_count": 2,
   "metadata": {},
   "outputs": [],
   "source": [
    "### Importing Machine Learning Libraries and functions\n",
    "from sklearn.model_selection import train_test_split\n",
    "from sklearn.model_selection import KFold\n",
    "from sklearn.model_selection import cross_val_score\n",
    "from sklearn import model_selection\n",
    "\n",
    "from sklearn.metrics import precision_recall_curve, auc, f1_score\n",
    "from sklearn.metrics import make_scorer\n",
    "\n",
    "\n",
    "from sklearn.linear_model import LogisticRegression\n",
    "from sklearn.tree import DecisionTreeClassifier\n",
    "from sklearn.neighbors import KNeighborsClassifier\n",
    "from sklearn.discriminant_analysis import LinearDiscriminantAnalysis\n",
    "from sklearn.naive_bayes import GaussianNB\n",
    "from sklearn.svm import SVC\n",
    "\n",
    "from sklearn.ensemble import AdaBoostClassifier\n",
    "from sklearn.ensemble import GradientBoostingClassifier\n",
    "from sklearn.ensemble import RandomForestClassifier\n",
    "from sklearn.ensemble import ExtraTreesClassifier\n",
    "\n",
    "from xgboost import XGBClassifier\n",
    "\n",
    "import lightgbm as lgb\n",
    "\n",
    "from imblearn.over_sampling import SMOTE\n",
    "\n",
    "from sklearn.feature_selection import RFECV"
   ]
  },
  {
   "cell_type": "markdown",
   "metadata": {},
   "source": [
    "#### Loading Data"
   ]
  },
  {
   "cell_type": "code",
   "execution_count": 3,
   "metadata": {},
   "outputs": [],
   "source": [
    "df_raw = pd.read_csv(\"..\\data\\creditcard.csv\")"
   ]
  },
  {
   "cell_type": "code",
   "execution_count": 4,
   "metadata": {},
   "outputs": [
    {
     "data": {
      "text/html": [
       "<div>\n",
       "<style scoped>\n",
       "    .dataframe tbody tr th:only-of-type {\n",
       "        vertical-align: middle;\n",
       "    }\n",
       "\n",
       "    .dataframe tbody tr th {\n",
       "        vertical-align: top;\n",
       "    }\n",
       "\n",
       "    .dataframe thead th {\n",
       "        text-align: right;\n",
       "    }\n",
       "</style>\n",
       "<table border=\"1\" class=\"dataframe\">\n",
       "  <thead>\n",
       "    <tr style=\"text-align: right;\">\n",
       "      <th></th>\n",
       "      <th>Time</th>\n",
       "      <th>V1</th>\n",
       "      <th>V2</th>\n",
       "      <th>V3</th>\n",
       "      <th>V4</th>\n",
       "      <th>V5</th>\n",
       "      <th>V6</th>\n",
       "      <th>V7</th>\n",
       "      <th>V8</th>\n",
       "      <th>V9</th>\n",
       "      <th>V10</th>\n",
       "      <th>V11</th>\n",
       "      <th>V12</th>\n",
       "      <th>V13</th>\n",
       "      <th>V14</th>\n",
       "      <th>V15</th>\n",
       "      <th>V16</th>\n",
       "      <th>V17</th>\n",
       "      <th>V18</th>\n",
       "      <th>V19</th>\n",
       "      <th>V20</th>\n",
       "      <th>V21</th>\n",
       "      <th>V22</th>\n",
       "      <th>V23</th>\n",
       "      <th>V24</th>\n",
       "      <th>V25</th>\n",
       "      <th>V26</th>\n",
       "      <th>V27</th>\n",
       "      <th>V28</th>\n",
       "      <th>Amount</th>\n",
       "      <th>Class</th>\n",
       "    </tr>\n",
       "  </thead>\n",
       "  <tbody>\n",
       "    <tr>\n",
       "      <th>0</th>\n",
       "      <td>0.000</td>\n",
       "      <td>-1.360</td>\n",
       "      <td>-0.073</td>\n",
       "      <td>2.536</td>\n",
       "      <td>1.378</td>\n",
       "      <td>-0.338</td>\n",
       "      <td>0.462</td>\n",
       "      <td>0.240</td>\n",
       "      <td>0.099</td>\n",
       "      <td>0.364</td>\n",
       "      <td>0.091</td>\n",
       "      <td>-0.552</td>\n",
       "      <td>-0.618</td>\n",
       "      <td>-0.991</td>\n",
       "      <td>-0.311</td>\n",
       "      <td>1.468</td>\n",
       "      <td>-0.470</td>\n",
       "      <td>0.208</td>\n",
       "      <td>0.026</td>\n",
       "      <td>0.404</td>\n",
       "      <td>0.251</td>\n",
       "      <td>-0.018</td>\n",
       "      <td>0.278</td>\n",
       "      <td>-0.110</td>\n",
       "      <td>0.067</td>\n",
       "      <td>0.129</td>\n",
       "      <td>-0.189</td>\n",
       "      <td>0.134</td>\n",
       "      <td>-0.021</td>\n",
       "      <td>149.620</td>\n",
       "      <td>0</td>\n",
       "    </tr>\n",
       "    <tr>\n",
       "      <th>1</th>\n",
       "      <td>0.000</td>\n",
       "      <td>1.192</td>\n",
       "      <td>0.266</td>\n",
       "      <td>0.166</td>\n",
       "      <td>0.448</td>\n",
       "      <td>0.060</td>\n",
       "      <td>-0.082</td>\n",
       "      <td>-0.079</td>\n",
       "      <td>0.085</td>\n",
       "      <td>-0.255</td>\n",
       "      <td>-0.167</td>\n",
       "      <td>1.613</td>\n",
       "      <td>1.065</td>\n",
       "      <td>0.489</td>\n",
       "      <td>-0.144</td>\n",
       "      <td>0.636</td>\n",
       "      <td>0.464</td>\n",
       "      <td>-0.115</td>\n",
       "      <td>-0.183</td>\n",
       "      <td>-0.146</td>\n",
       "      <td>-0.069</td>\n",
       "      <td>-0.226</td>\n",
       "      <td>-0.639</td>\n",
       "      <td>0.101</td>\n",
       "      <td>-0.340</td>\n",
       "      <td>0.167</td>\n",
       "      <td>0.126</td>\n",
       "      <td>-0.009</td>\n",
       "      <td>0.015</td>\n",
       "      <td>2.690</td>\n",
       "      <td>0</td>\n",
       "    </tr>\n",
       "    <tr>\n",
       "      <th>2</th>\n",
       "      <td>1.000</td>\n",
       "      <td>-1.358</td>\n",
       "      <td>-1.340</td>\n",
       "      <td>1.773</td>\n",
       "      <td>0.380</td>\n",
       "      <td>-0.503</td>\n",
       "      <td>1.800</td>\n",
       "      <td>0.791</td>\n",
       "      <td>0.248</td>\n",
       "      <td>-1.515</td>\n",
       "      <td>0.208</td>\n",
       "      <td>0.625</td>\n",
       "      <td>0.066</td>\n",
       "      <td>0.717</td>\n",
       "      <td>-0.166</td>\n",
       "      <td>2.346</td>\n",
       "      <td>-2.890</td>\n",
       "      <td>1.110</td>\n",
       "      <td>-0.121</td>\n",
       "      <td>-2.262</td>\n",
       "      <td>0.525</td>\n",
       "      <td>0.248</td>\n",
       "      <td>0.772</td>\n",
       "      <td>0.909</td>\n",
       "      <td>-0.689</td>\n",
       "      <td>-0.328</td>\n",
       "      <td>-0.139</td>\n",
       "      <td>-0.055</td>\n",
       "      <td>-0.060</td>\n",
       "      <td>378.660</td>\n",
       "      <td>0</td>\n",
       "    </tr>\n",
       "    <tr>\n",
       "      <th>3</th>\n",
       "      <td>1.000</td>\n",
       "      <td>-0.966</td>\n",
       "      <td>-0.185</td>\n",
       "      <td>1.793</td>\n",
       "      <td>-0.863</td>\n",
       "      <td>-0.010</td>\n",
       "      <td>1.247</td>\n",
       "      <td>0.238</td>\n",
       "      <td>0.377</td>\n",
       "      <td>-1.387</td>\n",
       "      <td>-0.055</td>\n",
       "      <td>-0.226</td>\n",
       "      <td>0.178</td>\n",
       "      <td>0.508</td>\n",
       "      <td>-0.288</td>\n",
       "      <td>-0.631</td>\n",
       "      <td>-1.060</td>\n",
       "      <td>-0.684</td>\n",
       "      <td>1.966</td>\n",
       "      <td>-1.233</td>\n",
       "      <td>-0.208</td>\n",
       "      <td>-0.108</td>\n",
       "      <td>0.005</td>\n",
       "      <td>-0.190</td>\n",
       "      <td>-1.176</td>\n",
       "      <td>0.647</td>\n",
       "      <td>-0.222</td>\n",
       "      <td>0.063</td>\n",
       "      <td>0.061</td>\n",
       "      <td>123.500</td>\n",
       "      <td>0</td>\n",
       "    </tr>\n",
       "    <tr>\n",
       "      <th>4</th>\n",
       "      <td>2.000</td>\n",
       "      <td>-1.158</td>\n",
       "      <td>0.878</td>\n",
       "      <td>1.549</td>\n",
       "      <td>0.403</td>\n",
       "      <td>-0.407</td>\n",
       "      <td>0.096</td>\n",
       "      <td>0.593</td>\n",
       "      <td>-0.271</td>\n",
       "      <td>0.818</td>\n",
       "      <td>0.753</td>\n",
       "      <td>-0.823</td>\n",
       "      <td>0.538</td>\n",
       "      <td>1.346</td>\n",
       "      <td>-1.120</td>\n",
       "      <td>0.175</td>\n",
       "      <td>-0.451</td>\n",
       "      <td>-0.237</td>\n",
       "      <td>-0.038</td>\n",
       "      <td>0.803</td>\n",
       "      <td>0.409</td>\n",
       "      <td>-0.009</td>\n",
       "      <td>0.798</td>\n",
       "      <td>-0.137</td>\n",
       "      <td>0.141</td>\n",
       "      <td>-0.206</td>\n",
       "      <td>0.502</td>\n",
       "      <td>0.219</td>\n",
       "      <td>0.215</td>\n",
       "      <td>69.990</td>\n",
       "      <td>0</td>\n",
       "    </tr>\n",
       "  </tbody>\n",
       "</table>\n",
       "</div>"
      ],
      "text/plain": [
       "   Time     V1     V2    V3     V4     V5     V6     V7     V8     V9    V10  \\\n",
       "0 0.000 -1.360 -0.073 2.536  1.378 -0.338  0.462  0.240  0.099  0.364  0.091   \n",
       "1 0.000  1.192  0.266 0.166  0.448  0.060 -0.082 -0.079  0.085 -0.255 -0.167   \n",
       "2 1.000 -1.358 -1.340 1.773  0.380 -0.503  1.800  0.791  0.248 -1.515  0.208   \n",
       "3 1.000 -0.966 -0.185 1.793 -0.863 -0.010  1.247  0.238  0.377 -1.387 -0.055   \n",
       "4 2.000 -1.158  0.878 1.549  0.403 -0.407  0.096  0.593 -0.271  0.818  0.753   \n",
       "\n",
       "     V11    V12    V13    V14    V15    V16    V17    V18    V19    V20  \\\n",
       "0 -0.552 -0.618 -0.991 -0.311  1.468 -0.470  0.208  0.026  0.404  0.251   \n",
       "1  1.613  1.065  0.489 -0.144  0.636  0.464 -0.115 -0.183 -0.146 -0.069   \n",
       "2  0.625  0.066  0.717 -0.166  2.346 -2.890  1.110 -0.121 -2.262  0.525   \n",
       "3 -0.226  0.178  0.508 -0.288 -0.631 -1.060 -0.684  1.966 -1.233 -0.208   \n",
       "4 -0.823  0.538  1.346 -1.120  0.175 -0.451 -0.237 -0.038  0.803  0.409   \n",
       "\n",
       "     V21    V22    V23    V24    V25    V26    V27    V28  Amount  Class  \n",
       "0 -0.018  0.278 -0.110  0.067  0.129 -0.189  0.134 -0.021 149.620      0  \n",
       "1 -0.226 -0.639  0.101 -0.340  0.167  0.126 -0.009  0.015   2.690      0  \n",
       "2  0.248  0.772  0.909 -0.689 -0.328 -0.139 -0.055 -0.060 378.660      0  \n",
       "3 -0.108  0.005 -0.190 -1.176  0.647 -0.222  0.063  0.061 123.500      0  \n",
       "4 -0.009  0.798 -0.137  0.141 -0.206  0.502  0.219  0.215  69.990      0  "
      ]
     },
     "execution_count": 4,
     "metadata": {},
     "output_type": "execute_result"
    }
   ],
   "source": [
    "df_raw.head()"
   ]
  },
  {
   "cell_type": "code",
   "execution_count": 5,
   "metadata": {},
   "outputs": [],
   "source": [
    "df_raw.drop([\"Time\"], axis = 1, inplace  = True)"
   ]
  },
  {
   "cell_type": "code",
   "execution_count": 6,
   "metadata": {},
   "outputs": [],
   "source": [
    "# df = df_raw.copy()"
   ]
  },
  {
   "cell_type": "markdown",
   "metadata": {},
   "source": [
    "##### Checking Class Distribution"
   ]
  },
  {
   "cell_type": "code",
   "execution_count": 7,
   "metadata": {},
   "outputs": [
    {
     "name": "stdout",
     "output_type": "stream",
     "text": [
      "0    284315\n",
      "1       492\n",
      "Name: Class, dtype: int64\n",
      "\n",
      " % distribution\n",
      " 0   99.827\n",
      "1    0.173\n",
      "Name: Class, dtype: float64\n"
     ]
    }
   ],
   "source": [
    "print(df_raw.Class.value_counts())\n",
    "\n",
    "print(\"\\n\",\"% distribution\\n\",df_raw.Class.value_counts(True)*100)"
   ]
  },
  {
   "cell_type": "code",
   "execution_count": 8,
   "metadata": {},
   "outputs": [
    {
     "data": {
      "text/plain": [
       "(284807, 30)"
      ]
     },
     "execution_count": 8,
     "metadata": {},
     "output_type": "execute_result"
    }
   ],
   "source": [
    "df_raw.shape"
   ]
  },
  {
   "cell_type": "markdown",
   "metadata": {},
   "source": [
    "#### Scoring function"
   ]
  },
  {
   "cell_type": "code",
   "execution_count": 9,
   "metadata": {},
   "outputs": [],
   "source": [
    "def AUPRC(y_true, y_pred_proba) :\n",
    "    precision, recall, thresholds = precision_recall_curve(y_true = y_true, probas_pred= y_pred_proba)\n",
    "    auprc = auc(recall, precision)\n",
    "    return(np.round(auprc, 4))"
   ]
  },
  {
   "cell_type": "markdown",
   "metadata": {},
   "source": [
    "#### Data Transformation\n",
    "* 1. Quantile Transformation (normal distribution)\n",
    "* 2. standard scaling the data"
   ]
  },
  {
   "cell_type": "code",
   "execution_count": 10,
   "metadata": {},
   "outputs": [],
   "source": [
    "quantile_transformer = QuantileTransformer(output_distribution=\"normal\")\n",
    "standard_scaler = StandardScaler()"
   ]
  },
  {
   "cell_type": "code",
   "execution_count": 11,
   "metadata": {},
   "outputs": [],
   "source": [
    "df_transformed = df_raw.copy()\n",
    "\n",
    "for i in range(df_transformed.iloc[:,:-1].shape[1]):\n",
    "    qt_transformed_var = quantile_transformer.fit_transform(df_transformed.iloc[:,i].values.reshape(-1,1))[:,0]\n",
    "    qt_transformed_std_scaled = standard_scaler.fit_transform(qt_transformed_var.reshape(-1,1))[:,0]\n",
    "    \n",
    "    df_transformed.iloc[:,i] = qt_transformed_std_scaled"
   ]
  },
  {
   "cell_type": "code",
   "execution_count": 12,
   "metadata": {},
   "outputs": [
    {
     "data": {
      "text/html": [
       "<div>\n",
       "<style scoped>\n",
       "    .dataframe tbody tr th:only-of-type {\n",
       "        vertical-align: middle;\n",
       "    }\n",
       "\n",
       "    .dataframe tbody tr th {\n",
       "        vertical-align: top;\n",
       "    }\n",
       "\n",
       "    .dataframe thead th {\n",
       "        text-align: right;\n",
       "    }\n",
       "</style>\n",
       "<table border=\"1\" class=\"dataframe\">\n",
       "  <thead>\n",
       "    <tr style=\"text-align: right;\">\n",
       "      <th></th>\n",
       "      <th>V1</th>\n",
       "      <th>V2</th>\n",
       "      <th>V3</th>\n",
       "      <th>V4</th>\n",
       "      <th>V5</th>\n",
       "      <th>V6</th>\n",
       "      <th>V7</th>\n",
       "      <th>V8</th>\n",
       "      <th>V9</th>\n",
       "      <th>V10</th>\n",
       "      <th>V11</th>\n",
       "      <th>V12</th>\n",
       "      <th>V13</th>\n",
       "      <th>V14</th>\n",
       "      <th>V15</th>\n",
       "      <th>V16</th>\n",
       "      <th>V17</th>\n",
       "      <th>V18</th>\n",
       "      <th>V19</th>\n",
       "      <th>V20</th>\n",
       "      <th>V21</th>\n",
       "      <th>V22</th>\n",
       "      <th>V23</th>\n",
       "      <th>V24</th>\n",
       "      <th>V25</th>\n",
       "      <th>V26</th>\n",
       "      <th>V27</th>\n",
       "      <th>V28</th>\n",
       "      <th>Amount</th>\n",
       "      <th>Class</th>\n",
       "    </tr>\n",
       "  </thead>\n",
       "  <tbody>\n",
       "    <tr>\n",
       "      <th>0</th>\n",
       "      <td>-0.997</td>\n",
       "      <td>-0.161</td>\n",
       "      <td>2.115</td>\n",
       "      <td>1.197</td>\n",
       "      <td>-0.302</td>\n",
       "      <td>0.723</td>\n",
       "      <td>0.288</td>\n",
       "      <td>0.197</td>\n",
       "      <td>0.442</td>\n",
       "      <td>0.305</td>\n",
       "      <td>-0.466</td>\n",
       "      <td>-0.885</td>\n",
       "      <td>-1.004</td>\n",
       "      <td>-0.524</td>\n",
       "      <td>1.775</td>\n",
       "      <td>-0.678</td>\n",
       "      <td>0.399</td>\n",
       "      <td>0.041</td>\n",
       "      <td>0.599</td>\n",
       "      <td>0.965</td>\n",
       "      <td>0.038</td>\n",
       "      <td>0.352</td>\n",
       "      <td>-0.458</td>\n",
       "      <td>0.078</td>\n",
       "      <td>0.194</td>\n",
       "      <td>-0.303</td>\n",
       "      <td>0.838</td>\n",
       "      <td>-0.324</td>\n",
       "      <td>1.027</td>\n",
       "      <td>0</td>\n",
       "    </tr>\n",
       "    <tr>\n",
       "      <th>1</th>\n",
       "      <td>0.456</td>\n",
       "      <td>0.217</td>\n",
       "      <td>-0.010</td>\n",
       "      <td>0.415</td>\n",
       "      <td>0.121</td>\n",
       "      <td>0.219</td>\n",
       "      <td>-0.162</td>\n",
       "      <td>0.162</td>\n",
       "      <td>-0.250</td>\n",
       "      <td>-0.117</td>\n",
       "      <td>1.645</td>\n",
       "      <td>1.360</td>\n",
       "      <td>0.509</td>\n",
       "      <td>-0.289</td>\n",
       "      <td>0.664</td>\n",
       "      <td>0.582</td>\n",
       "      <td>-0.073</td>\n",
       "      <td>-0.250</td>\n",
       "      <td>-0.226</td>\n",
       "      <td>-0.026</td>\n",
       "      <td>-0.662</td>\n",
       "      <td>-0.840</td>\n",
       "      <td>0.491</td>\n",
       "      <td>-0.648</td>\n",
       "      <td>0.272</td>\n",
       "      <td>0.388</td>\n",
       "      <td>-0.096</td>\n",
       "      <td>0.055</td>\n",
       "      <td>-0.836</td>\n",
       "      <td>0</td>\n",
       "    </tr>\n",
       "    <tr>\n",
       "      <th>2</th>\n",
       "      <td>-0.996</td>\n",
       "      <td>-1.266</td>\n",
       "      <td>1.378</td>\n",
       "      <td>0.341</td>\n",
       "      <td>-0.481</td>\n",
       "      <td>1.371</td>\n",
       "      <td>0.958</td>\n",
       "      <td>0.531</td>\n",
       "      <td>-1.461</td>\n",
       "      <td>0.452</td>\n",
       "      <td>0.570</td>\n",
       "      <td>-0.100</td>\n",
       "      <td>0.729</td>\n",
       "      <td>-0.321</td>\n",
       "      <td>2.778</td>\n",
       "      <td>-2.670</td>\n",
       "      <td>1.486</td>\n",
       "      <td>-0.165</td>\n",
       "      <td>-2.493</td>\n",
       "      <td>1.378</td>\n",
       "      <td>0.885</td>\n",
       "      <td>1.039</td>\n",
       "      <td>2.022</td>\n",
       "      <td>-1.118</td>\n",
       "      <td>-0.701</td>\n",
       "      <td>-0.189</td>\n",
       "      <td>-0.532</td>\n",
       "      <td>-0.767</td>\n",
       "      <td>1.591</td>\n",
       "      <td>0</td>\n",
       "    </tr>\n",
       "    <tr>\n",
       "      <th>3</th>\n",
       "      <td>-0.711</td>\n",
       "      <td>-0.288</td>\n",
       "      <td>1.400</td>\n",
       "      <td>-0.691</td>\n",
       "      <td>0.047</td>\n",
       "      <td>1.182</td>\n",
       "      <td>0.285</td>\n",
       "      <td>0.753</td>\n",
       "      <td>-1.362</td>\n",
       "      <td>0.060</td>\n",
       "      <td>-0.174</td>\n",
       "      <td>0.049</td>\n",
       "      <td>0.529</td>\n",
       "      <td>-0.492</td>\n",
       "      <td>-0.726</td>\n",
       "      <td>-1.284</td>\n",
       "      <td>-1.049</td>\n",
       "      <td>2.220</td>\n",
       "      <td>-1.525</td>\n",
       "      <td>-0.658</td>\n",
       "      <td>-0.258</td>\n",
       "      <td>-0.004</td>\n",
       "      <td>-0.791</td>\n",
       "      <td>-1.672</td>\n",
       "      <td>1.396</td>\n",
       "      <td>-0.386</td>\n",
       "      <td>0.524</td>\n",
       "      <td>0.575</td>\n",
       "      <td>0.919</td>\n",
       "      <td>0</td>\n",
       "    </tr>\n",
       "    <tr>\n",
       "      <th>4</th>\n",
       "      <td>-0.858</td>\n",
       "      <td>0.756</td>\n",
       "      <td>1.158</td>\n",
       "      <td>0.365</td>\n",
       "      <td>-0.378</td>\n",
       "      <td>0.405</td>\n",
       "      <td>0.704</td>\n",
       "      <td>-0.854</td>\n",
       "      <td>0.863</td>\n",
       "      <td>0.952</td>\n",
       "      <td>-0.743</td>\n",
       "      <td>0.558</td>\n",
       "      <td>1.380</td>\n",
       "      <td>-1.385</td>\n",
       "      <td>0.144</td>\n",
       "      <td>-0.656</td>\n",
       "      <td>-0.255</td>\n",
       "      <td>-0.047</td>\n",
       "      <td>1.102</td>\n",
       "      <td>1.233</td>\n",
       "      <td>0.067</td>\n",
       "      <td>1.082</td>\n",
       "      <td>-0.571</td>\n",
       "      <td>0.224</td>\n",
       "      <td>-0.413</td>\n",
       "      <td>1.018</td>\n",
       "      <td>1.074</td>\n",
       "      <td>1.452</td>\n",
       "      <td>0.597</td>\n",
       "      <td>0</td>\n",
       "    </tr>\n",
       "  </tbody>\n",
       "</table>\n",
       "</div>"
      ],
      "text/plain": [
       "      V1     V2     V3     V4     V5    V6     V7     V8     V9    V10    V11  \\\n",
       "0 -0.997 -0.161  2.115  1.197 -0.302 0.723  0.288  0.197  0.442  0.305 -0.466   \n",
       "1  0.456  0.217 -0.010  0.415  0.121 0.219 -0.162  0.162 -0.250 -0.117  1.645   \n",
       "2 -0.996 -1.266  1.378  0.341 -0.481 1.371  0.958  0.531 -1.461  0.452  0.570   \n",
       "3 -0.711 -0.288  1.400 -0.691  0.047 1.182  0.285  0.753 -1.362  0.060 -0.174   \n",
       "4 -0.858  0.756  1.158  0.365 -0.378 0.405  0.704 -0.854  0.863  0.952 -0.743   \n",
       "\n",
       "     V12    V13    V14    V15    V16    V17    V18    V19    V20    V21  \\\n",
       "0 -0.885 -1.004 -0.524  1.775 -0.678  0.399  0.041  0.599  0.965  0.038   \n",
       "1  1.360  0.509 -0.289  0.664  0.582 -0.073 -0.250 -0.226 -0.026 -0.662   \n",
       "2 -0.100  0.729 -0.321  2.778 -2.670  1.486 -0.165 -2.493  1.378  0.885   \n",
       "3  0.049  0.529 -0.492 -0.726 -1.284 -1.049  2.220 -1.525 -0.658 -0.258   \n",
       "4  0.558  1.380 -1.385  0.144 -0.656 -0.255 -0.047  1.102  1.233  0.067   \n",
       "\n",
       "     V22    V23    V24    V25    V26    V27    V28  Amount  Class  \n",
       "0  0.352 -0.458  0.078  0.194 -0.303  0.838 -0.324   1.027      0  \n",
       "1 -0.840  0.491 -0.648  0.272  0.388 -0.096  0.055  -0.836      0  \n",
       "2  1.039  2.022 -1.118 -0.701 -0.189 -0.532 -0.767   1.591      0  \n",
       "3 -0.004 -0.791 -1.672  1.396 -0.386  0.524  0.575   0.919      0  \n",
       "4  1.082 -0.571  0.224 -0.413  1.018  1.074  1.452   0.597      0  "
      ]
     },
     "execution_count": 12,
     "metadata": {},
     "output_type": "execute_result"
    }
   ],
   "source": [
    "df_transformed.head()"
   ]
  },
  {
   "cell_type": "markdown",
   "metadata": {},
   "source": [
    "### Recursive Feature Elimination"
   ]
  },
  {
   "cell_type": "code",
   "execution_count": 13,
   "metadata": {},
   "outputs": [],
   "source": [
    "x_full = df_transformed.iloc[:,:-1].values\n",
    "y_full = df_transformed.iloc[:,-1].values"
   ]
  },
  {
   "cell_type": "code",
   "execution_count": 14,
   "metadata": {},
   "outputs": [],
   "source": [
    "f1_scorer = make_scorer(f1_score)"
   ]
  },
  {
   "cell_type": "code",
   "execution_count": 15,
   "metadata": {},
   "outputs": [],
   "source": [
    "rfe_estimator = ExtraTreesClassifier()\n",
    "rfe_object = RFECV(rfe_estimator, scoring = f1_scorer,\n",
    "                   cv = model_selection.StratifiedKFold(5), n_jobs=-1)"
   ]
  },
  {
   "cell_type": "code",
   "execution_count": 16,
   "metadata": {},
   "outputs": [
    {
     "data": {
      "text/plain": [
       "RFECV(cv=StratifiedKFold(n_splits=5, random_state=None, shuffle=False),\n",
       "      estimator=ExtraTreesClassifier(), n_jobs=-1,\n",
       "      scoring=make_scorer(f1_score))"
      ]
     },
     "execution_count": 16,
     "metadata": {},
     "output_type": "execute_result"
    }
   ],
   "source": [
    "rfe_object.fit(x_full, y_full)"
   ]
  },
  {
   "cell_type": "code",
   "execution_count": 17,
   "metadata": {},
   "outputs": [
    {
     "name": "stdout",
     "output_type": "stream",
     "text": [
      "Optimal number of features: 8\n"
     ]
    }
   ],
   "source": [
    "print('Optimal number of features: {}'.format(rfe_object.n_features_))"
   ]
  },
  {
   "cell_type": "code",
   "execution_count": 19,
   "metadata": {},
   "outputs": [
    {
     "data": {
      "image/png": "[encoded data removed]",
      "text/plain": [
       "<Figure size 720x432 with 1 Axes>"
      ]
     },
     "metadata": {
      "needs_background": "light"
     },
     "output_type": "display_data"
    }
   ],
   "source": [
    "plt.figure(figsize=(10, 6))\n",
    "plt.title('Recursive Feature Elimination with Cross-Validation', fontsize=18, fontweight='bold', pad=20)\n",
    "plt.xlabel('Number of features selected', fontsize=14, labelpad=20)\n",
    "plt.ylabel('F1 score', fontsize=14, labelpad=20)\n",
    "plt.plot(range(1, len(rfe_object.grid_scores_) + 1), rfe_object.grid_scores_, color='#303F9F', linewidth=3)\n",
    "\n",
    "plt.show()"
   ]
  },
  {
   "cell_type": "code",
   "execution_count": 24,
   "metadata": {},
   "outputs": [
    {
     "data": {
      "text/plain": [
       "Index(['V7', 'V9', 'V10', 'V11', 'V12', 'V14', 'V16', 'V17'], dtype='object')"
      ]
     },
     "execution_count": 24,
     "metadata": {},
     "output_type": "execute_result"
    }
   ],
   "source": [
    "## selected variables\n",
    "selected_vars = df_transformed.columns[:-1][list(rfe_object.support_)]\n",
    "selected_vars"
   ]
  },
  {
   "cell_type": "markdown",
   "metadata": {},
   "source": [
    "##### Evaluating Tree Based Classifiers using selected features\n",
    "1. 5 fold CV to estimate F1 and AUPRC : Actual Data\n",
    "2. 5 fold CV to estimate F1 and AUPRC : SMOTE Oversampled Data    "
   ]
  },
  {
   "cell_type": "code",
   "execution_count": 30,
   "metadata": {},
   "outputs": [],
   "source": [
    "selected_features = list(selected_vars)\n",
    "all_vars = list(selected_vars)+[\"Class\"]\n",
    "new_df = df_transformed[all_vars]"
   ]
  },
  {
   "cell_type": "code",
   "execution_count": 31,
   "metadata": {},
   "outputs": [
    {
     "data": {
      "text/html": [
       "<div>\n",
       "<style scoped>\n",
       "    .dataframe tbody tr th:only-of-type {\n",
       "        vertical-align: middle;\n",
       "    }\n",
       "\n",
       "    .dataframe tbody tr th {\n",
       "        vertical-align: top;\n",
       "    }\n",
       "\n",
       "    .dataframe thead th {\n",
       "        text-align: right;\n",
       "    }\n",
       "</style>\n",
       "<table border=\"1\" class=\"dataframe\">\n",
       "  <thead>\n",
       "    <tr style=\"text-align: right;\">\n",
       "      <th></th>\n",
       "      <th>V7</th>\n",
       "      <th>V9</th>\n",
       "      <th>V10</th>\n",
       "      <th>V11</th>\n",
       "      <th>V12</th>\n",
       "      <th>V14</th>\n",
       "      <th>V16</th>\n",
       "      <th>V17</th>\n",
       "      <th>Class</th>\n",
       "    </tr>\n",
       "  </thead>\n",
       "  <tbody>\n",
       "    <tr>\n",
       "      <th>0</th>\n",
       "      <td>0.288</td>\n",
       "      <td>0.442</td>\n",
       "      <td>0.305</td>\n",
       "      <td>-0.466</td>\n",
       "      <td>-0.885</td>\n",
       "      <td>-0.524</td>\n",
       "      <td>-0.678</td>\n",
       "      <td>0.399</td>\n",
       "      <td>0</td>\n",
       "    </tr>\n",
       "    <tr>\n",
       "      <th>1</th>\n",
       "      <td>-0.162</td>\n",
       "      <td>-0.250</td>\n",
       "      <td>-0.117</td>\n",
       "      <td>1.645</td>\n",
       "      <td>1.360</td>\n",
       "      <td>-0.289</td>\n",
       "      <td>0.582</td>\n",
       "      <td>-0.073</td>\n",
       "      <td>0</td>\n",
       "    </tr>\n",
       "    <tr>\n",
       "      <th>2</th>\n",
       "      <td>0.958</td>\n",
       "      <td>-1.461</td>\n",
       "      <td>0.452</td>\n",
       "      <td>0.570</td>\n",
       "      <td>-0.100</td>\n",
       "      <td>-0.321</td>\n",
       "      <td>-2.670</td>\n",
       "      <td>1.486</td>\n",
       "      <td>0</td>\n",
       "    </tr>\n",
       "    <tr>\n",
       "      <th>3</th>\n",
       "      <td>0.285</td>\n",
       "      <td>-1.362</td>\n",
       "      <td>0.060</td>\n",
       "      <td>-0.174</td>\n",
       "      <td>0.049</td>\n",
       "      <td>-0.492</td>\n",
       "      <td>-1.284</td>\n",
       "      <td>-1.049</td>\n",
       "      <td>0</td>\n",
       "    </tr>\n",
       "    <tr>\n",
       "      <th>4</th>\n",
       "      <td>0.704</td>\n",
       "      <td>0.863</td>\n",
       "      <td>0.952</td>\n",
       "      <td>-0.743</td>\n",
       "      <td>0.558</td>\n",
       "      <td>-1.385</td>\n",
       "      <td>-0.656</td>\n",
       "      <td>-0.255</td>\n",
       "      <td>0</td>\n",
       "    </tr>\n",
       "  </tbody>\n",
       "</table>\n",
       "</div>"
      ],
      "text/plain": [
       "      V7     V9    V10    V11    V12    V14    V16    V17  Class\n",
       "0  0.288  0.442  0.305 -0.466 -0.885 -0.524 -0.678  0.399      0\n",
       "1 -0.162 -0.250 -0.117  1.645  1.360 -0.289  0.582 -0.073      0\n",
       "2  0.958 -1.461  0.452  0.570 -0.100 -0.321 -2.670  1.486      0\n",
       "3  0.285 -1.362  0.060 -0.174  0.049 -0.492 -1.284 -1.049      0\n",
       "4  0.704  0.863  0.952 -0.743  0.558 -1.385 -0.656 -0.255      0"
      ]
     },
     "execution_count": 31,
     "metadata": {},
     "output_type": "execute_result"
    }
   ],
   "source": [
    "new_df.head()"
   ]
  },
  {
   "cell_type": "code",
   "execution_count": 36,
   "metadata": {},
   "outputs": [],
   "source": [
    "def create_stratified_folds(data, k_fold_num, target_variable):\n",
    "    data[\"kfold\"] = -1 # we create a new column called kfold and fill it with -1\n",
    "    data = data.sample(frac=1).reset_index(drop=True) # the next step is to randomize the rows of the data\n",
    "\n",
    "    y = data[target_variable].values\n",
    "\n",
    "    kf = model_selection.StratifiedKFold(n_splits= k_fold_num)\n",
    "\n",
    "    for fold, (trn_, partitioned_idx_) in enumerate(kf.split(X=data, y = y)):\n",
    "        data.loc[partitioned_idx_, 'kfold'] = fold\n",
    "    return(data)"
   ]
  },
  {
   "cell_type": "code",
   "execution_count": 37,
   "metadata": {},
   "outputs": [],
   "source": [
    "#### Scoring function\n",
    "def AUPRC(y_true, y_pred_proba) :\n",
    "    precision, recall, thresholds = precision_recall_curve(y_true = y_true, probas_pred= y_pred_proba)\n",
    "    auprc = auc(recall, precision)\n",
    "    return(np.round(auprc, 4))"
   ]
  },
  {
   "cell_type": "code",
   "execution_count": 38,
   "metadata": {},
   "outputs": [],
   "source": [
    "# defining models\n",
    "models = []\n",
    "models.append(('RF', RandomForestClassifier(n_jobs = -1)))\n",
    "models.append(('ETC', ExtraTreesClassifier( n_jobs = -1)))\n",
    "models.append(('XGB', XGBClassifier(n_jobs = -1)))"
   ]
  },
  {
   "cell_type": "code",
   "execution_count": 40,
   "metadata": {},
   "outputs": [],
   "source": [
    "# Creating stratified k-fold within the data\n",
    "df = new_df.copy()\n",
    "k_fold_num = 5\n",
    "df = create_stratified_folds(df, k_fold_num = 5, target_variable = \"Class\")\n",
    "features = [f for f in df.columns if f not in [\"kfold\",\"Class\"]]"
   ]
  },
  {
   "cell_type": "markdown",
   "metadata": {},
   "source": [
    "#### 1. Algorithms Evaluation : 5 fold CV to estimate F1 and AUPRC : Actual Data"
   ]
  },
  {
   "cell_type": "code",
   "execution_count": 41,
   "metadata": {},
   "outputs": [
    {
     "name": "stdout",
     "output_type": "stream",
     "text": [
      "Model :  RF\n",
      "Average Area Under Precision Recall Curve =  0.83\n",
      "Average F1 score =  0.85\n",
      "Time Taken in minutes =  2.87\n",
      "\n",
      "\n",
      "Model :  ETC\n",
      "Average Area Under Precision Recall Curve =  0.84\n",
      "Average F1 score =  0.86\n",
      "Time Taken in minutes =  0.57\n",
      "\n",
      "\n",
      "Model :  XGB\n",
      "Average Area Under Precision Recall Curve =  0.83\n",
      "Average F1 score =  0.85\n",
      "Time Taken in minutes =  1.84\n",
      "\n",
      "\n"
     ]
    }
   ],
   "source": [
    "F1_score_results = {}\n",
    "AUPRC_results = {}\n",
    "time_taken = {}\n",
    "\n",
    "for name, model in models:\n",
    "    t0 = perf_counter()\n",
    "    \n",
    "    cv_auprc = []\n",
    "    f1_scores = []\n",
    "    for fold in range(k_fold_num):\n",
    "        df_train = df[df.kfold != fold].reset_index(drop=True)\n",
    "        df_valid = df[df.kfold == fold].reset_index(drop=True)\n",
    "\n",
    "        x_train = df_train[features].values\n",
    "        x_valid = df_valid[features].values\n",
    "        \n",
    "        model.fit(x_train, df_train.Class.values)\n",
    "        \n",
    "        valid_preds = model.predict_proba(x_valid)[:, 1]\n",
    "        valid_preds_binary = model.predict(x_valid)\n",
    "        \n",
    "        auprc = AUPRC(df_valid.Class.values, valid_preds)\n",
    "        f1 = f1_score(df_valid.Class.values, valid_preds_binary)\n",
    "        \n",
    "        cv_auprc.append(auprc)\n",
    "        f1_scores.append(np.round(f1,4))\n",
    "        \n",
    "    t1 = perf_counter()\n",
    "    \n",
    "    AUPRC_results[name] = cv_auprc\n",
    "    F1_score_results[name] = f1_scores\n",
    "    time_taken[name] = np.round((t1 - t0)/60,2)\n",
    "    \n",
    "    print(\"Model : \", name)\n",
    "    print(\"Average Area Under Precision Recall Curve = \", np.round(np.mean(cv_auprc),2))\n",
    "    print(\"Average F1 score = \", np.round(np.mean(f1_scores),2))\n",
    "    print(\"Time Taken in minutes = \", time_taken[name])\n",
    "    print(\"\\n\")"
   ]
  },
  {
   "cell_type": "code",
   "execution_count": 42,
   "metadata": {},
   "outputs": [
    {
     "data": {
      "text/plain": [
       "{'RF': [0.8456, 0.8224, 0.8687, 0.8178, 0.8042],\n",
       " 'ETC': [0.8565, 0.8423, 0.873, 0.8302, 0.7965],\n",
       " 'XGB': [0.8494, 0.8261, 0.8658, 0.7952, 0.7934]}"
      ]
     },
     "execution_count": 42,
     "metadata": {},
     "output_type": "execute_result"
    }
   ],
   "source": [
    "AUPRC_results"
   ]
  },
  {
   "cell_type": "code",
   "execution_count": 43,
   "metadata": {},
   "outputs": [
    {
     "data": {
      "text/plain": [
       "{'RF': [0.8696, 0.8587, 0.8686, 0.8315, 0.8462],\n",
       " 'ETC': [0.8865, 0.8478, 0.8555, 0.8492, 0.838],\n",
       " 'XGB': [0.8541, 0.8261, 0.88, 0.8475, 0.8268]}"
      ]
     },
     "execution_count": 43,
     "metadata": {},
     "output_type": "execute_result"
    }
   ],
   "source": [
    "F1_score_results"
   ]
  },
  {
   "cell_type": "code",
   "execution_count": 44,
   "metadata": {},
   "outputs": [
    {
     "data": {
      "text/plain": [
       "Text(0.5, 0, 'Model')"
      ]
     },
     "execution_count": 44,
     "metadata": {},
     "output_type": "execute_result"
    },
    {
     "data": {
      "image/png": "[encoded data removed]",
      "text/plain": [
       "<Figure size 576x432 with 1 Axes>"
      ]
     },
     "metadata": {
      "needs_background": "light"
     },
     "output_type": "display_data"
    }
   ],
   "source": [
    "## Plotting \n",
    "AUPRC_results = pd.DataFrame(AUPRC_results)\n",
    "plt.figure(figsize=(8, 6))\n",
    "sns.boxplot(data=AUPRC_results)\n",
    "sns.swarmplot(data=AUPRC_results, color = \"black\")\n",
    "plt.title(\"AUPRC comparision, 5 fold CV : Original Data\")\n",
    "plt.ylabel(\"Area Under Precision Recall Curve\")\n",
    "plt.xlabel(\"Model\")"
   ]
  },
  {
   "cell_type": "markdown",
   "metadata": {},
   "source": [
    "#### 2. Algorithm Evaluation on Oversampled data : SMOTE\n",
    "For each Fold :\n",
    "    * splitting the fold data into train and validation\n",
    "    * Oversampling the train data\n",
    "    * Fitting model on oversampled data\n",
    "    * Prediction on the left out validation set"
   ]
  },
  {
   "cell_type": "code",
   "execution_count": 45,
   "metadata": {},
   "outputs": [
    {
     "name": "stdout",
     "output_type": "stream",
     "text": [
      "Model :  RF\n",
      "Average Area Under Precision Recall Curve =  0.83\n",
      "Average F1 score =  0.8\n",
      "Time Taken in minutes =  4.94\n",
      "\n",
      "\n",
      "Model :  ETC\n",
      "Average Area Under Precision Recall Curve =  0.83\n",
      "Average F1 score =  0.84\n",
      "Time Taken in minutes =  1.57\n",
      "\n",
      "\n",
      "Model :  XGB\n",
      "Average Area Under Precision Recall Curve =  0.81\n",
      "Average F1 score =  0.49\n",
      "Time Taken in minutes =  4.06\n",
      "\n",
      "\n"
     ]
    }
   ],
   "source": [
    "F1_score_results = {}\n",
    "AUPRC_results = {}\n",
    "time_taken = {}\n",
    "\n",
    "for name, model in models:\n",
    "    t0 = perf_counter()\n",
    "    \n",
    "    cv_auprc = []\n",
    "    f1_scores = []\n",
    "    for fold in range(k_fold_num):\n",
    "        df_train = df[df.kfold != fold].reset_index(drop=True)\n",
    "        df_valid = df[df.kfold == fold].reset_index(drop=True)\n",
    "        \n",
    "        ## Oversampling the df_train data : SMOTE\n",
    "        x_train = df_train[features].values\n",
    "        y_train = df_train[\"Class\"].values\n",
    "        \n",
    "        x_train_smote, y_train_smote = SMOTE().fit_sample(x_train, y_train)\n",
    "        \n",
    "        ## Validation dataset\n",
    "        x_valid = df_valid[features].values\n",
    "        y_valid = df_valid[\"Class\"].values\n",
    "        \n",
    "        model.fit(x_train_smote, y_train_smote)\n",
    "        \n",
    "        valid_preds = model.predict_proba(x_valid)[:, 1]\n",
    "        valid_preds_binary = model.predict(x_valid)\n",
    "        \n",
    "        auprc = AUPRC(y_valid, valid_preds)\n",
    "        f1 = f1_score(y_valid, valid_preds_binary)\n",
    "        \n",
    "        cv_auprc.append(auprc)\n",
    "        f1_scores.append(np.round(f1,4))\n",
    "        \n",
    "    t1 = perf_counter()\n",
    "    \n",
    "    AUPRC_results[name] = cv_auprc\n",
    "    F1_score_results[name] = f1_scores\n",
    "    time_taken[name] = np.round((t1 - t0)/60,2)\n",
    "    \n",
    "    print(\"Model : \", name)\n",
    "    print(\"Average Area Under Precision Recall Curve = \", np.round(np.mean(cv_auprc),2))\n",
    "    print(\"Average F1 score = \", np.round(np.mean(f1_scores),2))\n",
    "    print(\"Time Taken in minutes = \", time_taken[name])\n",
    "    print(\"\\n\")"
   ]
  },
  {
   "cell_type": "code",
   "execution_count": 46,
   "metadata": {},
   "outputs": [
    {
     "data": {
      "text/plain": [
       "{'RF': [0.8155, 0.8069, 0.8604, 0.8362, 0.8061],\n",
       " 'ETC': [0.8384, 0.8245, 0.8678, 0.8257, 0.8022],\n",
       " 'XGB': [0.7866, 0.8033, 0.8385, 0.8222, 0.7945]}"
      ]
     },
     "execution_count": 46,
     "metadata": {},
     "output_type": "execute_result"
    }
   ],
   "source": [
    "AUPRC_results"
   ]
  },
  {
   "cell_type": "code",
   "execution_count": 47,
   "metadata": {},
   "outputs": [
    {
     "data": {
      "text/plain": [
       "{'RF': [0.7981, 0.7536, 0.8137, 0.8351, 0.7843],\n",
       " 'ETC': [0.8384, 0.798, 0.8601, 0.8438, 0.8351],\n",
       " 'XGB': [0.4474, 0.4793, 0.4594, 0.5094, 0.5418]}"
      ]
     },
     "execution_count": 47,
     "metadata": {},
     "output_type": "execute_result"
    }
   ],
   "source": [
    "F1_score_results"
   ]
  },
  {
   "cell_type": "code",
   "execution_count": 48,
   "metadata": {},
   "outputs": [
    {
     "data": {
      "text/plain": [
       "Text(0.5, 0, 'Model')"
      ]
     },
     "execution_count": 48,
     "metadata": {},
     "output_type": "execute_result"
    },
    {
     "data": {
      "image/png": "[encoded data removed]",
      "text/plain": [
       "<Figure size 576x432 with 1 Axes>"
      ]
     },
     "metadata": {
      "needs_background": "light"
     },
     "output_type": "display_data"
    }
   ],
   "source": [
    "## Plotting \n",
    "AUPRC_results = pd.DataFrame(AUPRC_results)\n",
    "plt.figure(figsize=(8, 6))\n",
    "sns.boxplot(data=AUPRC_results)\n",
    "sns.swarmplot(data=AUPRC_results, color = \"black\")\n",
    "plt.title(\"AUPRC comparision, 5 fold CV : SMOTE Oversampling\")\n",
    "plt.ylabel(\"Area Under Precision Recall Curve\")\n",
    "plt.xlabel(\"Model\")"
   ]
  },
  {
   "cell_type": "code",
   "execution_count": null,
   "metadata": {},
   "outputs": [],
   "source": []
  },
  {
   "cell_type": "code",
   "execution_count": null,
   "metadata": {},
   "outputs": [],
   "source": []
  },
  {
   "cell_type": "code",
   "execution_count": null,
   "metadata": {},
   "outputs": [],
   "source": []
  },
  {
   "cell_type": "code",
   "execution_count": null,
   "metadata": {},
   "outputs": [],
   "source": []
  },
  {
   "cell_type": "code",
   "execution_count": null,
   "metadata": {},
   "outputs": [],
   "source": []
  },
  {
   "cell_type": "code",
   "execution_count": null,
   "metadata": {},
   "outputs": [],
   "source": []
  },
  {
   "cell_type": "code",
   "execution_count": null,
   "metadata": {},
   "outputs": [],
   "source": []
  },
  {
   "cell_type": "code",
   "execution_count": null,
   "metadata": {},
   "outputs": [],
   "source": []
  },
  {
   "cell_type": "code",
   "execution_count": null,
   "metadata": {},
   "outputs": [],
   "source": []
  },
  {
   "cell_type": "code",
   "execution_count": null,
   "metadata": {},
   "outputs": [],
   "source": []
  },
  {
   "cell_type": "code",
   "execution_count": null,
   "metadata": {},
   "outputs": [],
   "source": []
  },
  {
   "cell_type": "code",
   "execution_count": null,
   "metadata": {},
   "outputs": [],
   "source": []
  },
  {
   "cell_type": "code",
   "execution_count": null,
   "metadata": {},
   "outputs": [],
   "source": []
  },
  {
   "cell_type": "code",
   "execution_count": null,
   "metadata": {},
   "outputs": [],
   "source": []
  },
  {
   "cell_type": "code",
   "execution_count": null,
   "metadata": {},
   "outputs": [],
   "source": []
  },
  {
   "cell_type": "code",
   "execution_count": null,
   "metadata": {},
   "outputs": [],
   "source": []
  },
  {
   "cell_type": "code",
   "execution_count": null,
   "metadata": {},
   "outputs": [],
   "source": []
  },
  {
   "cell_type": "code",
   "execution_count": null,
   "metadata": {},
   "outputs": [],
   "source": []
  },
  {
   "cell_type": "code",
   "execution_count": null,
   "metadata": {},
   "outputs": [],
   "source": []
  },
  {
   "cell_type": "code",
   "execution_count": null,
   "metadata": {},
   "outputs": [],
   "source": []
  },
  {
   "cell_type": "code",
   "execution_count": null,
   "metadata": {},
   "outputs": [],
   "source": []
  },
  {
   "cell_type": "code",
   "execution_count": null,
   "metadata": {},
   "outputs": [],
   "source": []
  },
  {
   "cell_type": "code",
   "execution_count": null,
   "metadata": {},
   "outputs": [],
   "source": []
  },
  {
   "cell_type": "code",
   "execution_count": null,
   "metadata": {},
   "outputs": [],
   "source": []
  },
  {
   "cell_type": "code",
   "execution_count": null,
   "metadata": {},
   "outputs": [],
   "source": []
  },
  {
   "cell_type": "code",
   "execution_count": null,
   "metadata": {},
   "outputs": [],
   "source": []
  },
  {
   "cell_type": "code",
   "execution_count": null,
   "metadata": {},
   "outputs": [],
   "source": []
  },
  {
   "cell_type": "code",
   "execution_count": null,
   "metadata": {},
   "outputs": [],
   "source": []
  },
  {
   "cell_type": "code",
   "execution_count": null,
   "metadata": {},
   "outputs": [],
   "source": []
  },
  {
   "cell_type": "code",
   "execution_count": null,
   "metadata": {},
   "outputs": [],
   "source": []
  },
  {
   "cell_type": "code",
   "execution_count": null,
   "metadata": {},
   "outputs": [],
   "source": []
  },
  {
   "cell_type": "code",
   "execution_count": null,
   "metadata": {},
   "outputs": [],
   "source": []
  },
  {
   "cell_type": "code",
   "execution_count": null,
   "metadata": {},
   "outputs": [],
   "source": []
  },
  {
   "cell_type": "code",
   "execution_count": null,
   "metadata": {},
   "outputs": [],
   "source": []
  },
  {
   "cell_type": "code",
   "execution_count": null,
   "metadata": {},
   "outputs": [],
   "source": []
  },
  {
   "cell_type": "code",
   "execution_count": null,
   "metadata": {},
   "outputs": [],
   "source": []
  },
  {
   "cell_type": "code",
   "execution_count": null,
   "metadata": {},
   "outputs": [],
   "source": []
  },
  {
   "cell_type": "code",
   "execution_count": null,
   "metadata": {},
   "outputs": [],
   "source": []
  },
  {
   "cell_type": "code",
   "execution_count": null,
   "metadata": {},
   "outputs": [],
   "source": []
  },
  {
   "cell_type": "code",
   "execution_count": null,
   "metadata": {},
   "outputs": [],
   "source": []
  },
  {
   "cell_type": "code",
   "execution_count": null,
   "metadata": {},
   "outputs": [],
   "source": []
  },
  {
   "cell_type": "code",
   "execution_count": null,
   "metadata": {},
   "outputs": [],
   "source": []
  },
  {
   "cell_type": "code",
   "execution_count": null,
   "metadata": {},
   "outputs": [],
   "source": []
  },
  {
   "cell_type": "code",
   "execution_count": null,
   "metadata": {},
   "outputs": [],
   "source": []
  },
  {
   "cell_type": "code",
   "execution_count": null,
   "metadata": {},
   "outputs": [],
   "source": []
  },
  {
   "cell_type": "code",
   "execution_count": null,
   "metadata": {},
   "outputs": [],
   "source": []
  },
  {
   "cell_type": "code",
   "execution_count": null,
   "metadata": {},
   "outputs": [],
   "source": []
  },
  {
   "cell_type": "code",
   "execution_count": null,
   "metadata": {},
   "outputs": [],
   "source": []
  },
  {
   "cell_type": "code",
   "execution_count": null,
   "metadata": {},
   "outputs": [],
   "source": []
  },
  {
   "cell_type": "code",
   "execution_count": null,
   "metadata": {},
   "outputs": [],
   "source": []
  },
  {
   "cell_type": "code",
   "execution_count": null,
   "metadata": {},
   "outputs": [],
   "source": []
  },
  {
   "cell_type": "code",
   "execution_count": null,
   "metadata": {},
   "outputs": [],
   "source": []
  },
  {
   "cell_type": "code",
   "execution_count": null,
   "metadata": {},
   "outputs": [],
   "source": []
  },
  {
   "cell_type": "code",
   "execution_count": null,
   "metadata": {},
   "outputs": [],
   "source": []
  },
  {
   "cell_type": "code",
   "execution_count": null,
   "metadata": {},
   "outputs": [],
   "source": []
  },
  {
   "cell_type": "code",
   "execution_count": null,
   "metadata": {},
   "outputs": [],
   "source": []
  },
  {
   "cell_type": "code",
   "execution_count": null,
   "metadata": {},
   "outputs": [],
   "source": []
  },
  {
   "cell_type": "code",
   "execution_count": null,
   "metadata": {},
   "outputs": [],
   "source": []
  },
  {
   "cell_type": "code",
   "execution_count": null,
   "metadata": {},
   "outputs": [],
   "source": []
  },
  {
   "cell_type": "code",
   "execution_count": null,
   "metadata": {},
   "outputs": [],
   "source": []
  },
  {
   "cell_type": "code",
   "execution_count": null,
   "metadata": {},
   "outputs": [],
   "source": []
  },
  {
   "cell_type": "code",
   "execution_count": null,
   "metadata": {},
   "outputs": [],
   "source": []
  },
  {
   "cell_type": "code",
   "execution_count": null,
   "metadata": {},
   "outputs": [],
   "source": []
  },
  {
   "cell_type": "code",
   "execution_count": null,
   "metadata": {},
   "outputs": [],
   "source": []
  }
 ],
 "metadata": {
  "kernelspec": {
   "display_name": "Python 3",
   "language": "python",
   "name": "python3"
  },
  "language_info": {
   "codemirror_mode": {
    "name": "ipython",
    "version": 3
   },
   "file_extension": ".py",
   "mimetype": "text/x-python",
   "name": "python",
   "nbconvert_exporter": "python",
   "pygments_lexer": "ipython3",
   "version": "3.7.4"
  }
 },
 "nbformat": 4,
 "nbformat_minor": 2
}
